{
 "cells": [
  {
   "cell_type": "markdown",
   "id": "57c5447e",
   "metadata": {},
   "source": [
    "# Project_3:- Movielence_case_study"
   ]
  },
  {
   "cell_type": "markdown",
   "id": "6d7c41c1",
   "metadata": {},
   "source": [
    "**Background of Problem Statement :**\n",
    "\n",
    "The GroupLens Research Project is a research group in the Department of Computer Science and Engineering at the University of Minnesota. Members of the GroupLens Research Project are involved in many research projects related to the fields of information filtering, collaborative filtering, and recommender systems. The project is led by professors John Riedl and Joseph Konstan. The project began to explore automated collaborative filtering in 1992 but is most well known for its worldwide trial of an automated collaborative filtering system for Usenet news in 1996. Since then the project has expanded its scope to research overall information by filtering solutions, integrating into content-based methods, as well as, improving current collaborative filtering technology."
   ]
  },
  {
   "cell_type": "markdown",
   "id": "93d07ee8",
   "metadata": {},
   "source": [
    "**Problem Objective :**\n",
    "\n",
    "Here, we ask you to perform the analysis using the Exploratory Data Analysis technique. You need to find features affecting the ratings of any particular movie and build a model to predict the movie ratings."
   ]
  },
  {
   "cell_type": "markdown",
   "id": "f2d65b9c",
   "metadata": {},
   "source": [
    "**Domain:** Entertainment"
   ]
  },
  {
   "cell_type": "markdown",
   "id": "edc3436a",
   "metadata": {},
   "source": [
    "**Analysis Tasks to be performed:**\n",
    "\n",
    "* Import the three datasets\n",
    "*Create a new dataset [Master_Data] with the following columns MovieID Title UserID Age Gender Occupation Rating. (Hint: (i) Merge two tables at a time. (ii) Merge the tables using two primary keys MovieID & UserId)\n",
    "*Explore the datasets using visual representations (graphs or tables), also include your comments on the following:\n",
    "1. User Age Distribution \n",
    "2. User rating of the movie “Toy Story”\n",
    "3. Top 25 movies by viewership rating\n",
    "4. Find the ratings for all the movies reviewed by for a particular user of user id = 2696\n",
    "* Feature Engineering:\n",
    "    Use column genres:\n",
    "\n",
    "1. Find out all the unique genres (Hint: split the data in column genre making a list and then process the data to find out only the unique categories of genres)\n",
    "2. Create a separate column for each genre category with a one-hot encoding ( 1 and 0) whether or not the movie belongs to that genre. \n",
    "3. Determine the features affecting the ratings of any particular movie.\n",
    "4. Develop an appropriate model to predict the movie ratings"
   ]
  },
  {
   "cell_type": "markdown",
   "id": "df16abf3",
   "metadata": {},
   "source": [
    "**Import the libraries**"
   ]
  },
  {
   "cell_type": "code",
   "execution_count": 2,
   "id": "d7fd9aed",
   "metadata": {},
   "outputs": [],
   "source": [
    "import pandas as pd\n",
    "import numpy as np\n",
    "import matplotlib\n",
    "import matplotlib.pyplot as plt\n",
    "%matplotlib inline\n",
    "import seaborn as sns\n",
    "import warnings\n",
    "warnings.filterwarnings('ignore')"
   ]
  },
  {
   "cell_type": "markdown",
   "id": "a155630d",
   "metadata": {},
   "source": [
    "## Loading all three datasets"
   ]
  },
  {
   "cell_type": "code",
   "execution_count": 3,
   "id": "0eba259a",
   "metadata": {},
   "outputs": [],
   "source": [
    "movi_data = pd.read_csv('movies.dat' ,sep='::' ,header=None, names=['MovieID','Title','Genres'],dtype={'MovieID': np.int32,'Title': np.str,'Genres': np.str}, engine='python',encoding = \"ISO-8859-1\")\n",
    "rating_data = pd.read_csv('ratings.dat',sep='::',header=None, names=['UserID', 'MovieID', 'Rating','Timestamp'], dtype={'UserID': np.int32, 'MoviID': np.int32, 'Rating': np.int32,'Timestamp': np.str},engine='python',encoding = \"ISO-8859-1\")\n",
    "user_data = pd.read_csv('users.dat', sep='::',header=None , names=['UserID', 'Gender', 'Age','Occupation','Zip_Code'], dtype={'UserID': np.int32, 'Gender': np.str, 'Age': np.int32,'Occupation': np.int32,'Zip_Code': np.str},engine='python',encoding = \"ISO-8859-1\")"
   ]
  },
  {
   "cell_type": "code",
   "execution_count": 4,
   "id": "a0851683",
   "metadata": {},
   "outputs": [
    {
     "data": {
      "text/html": [
       "<div>\n",
       "<style scoped>\n",
       "    .dataframe tbody tr th:only-of-type {\n",
       "        vertical-align: middle;\n",
       "    }\n",
       "\n",
       "    .dataframe tbody tr th {\n",
       "        vertical-align: top;\n",
       "    }\n",
       "\n",
       "    .dataframe thead th {\n",
       "        text-align: right;\n",
       "    }\n",
       "</style>\n",
       "<table border=\"1\" class=\"dataframe\">\n",
       "  <thead>\n",
       "    <tr style=\"text-align: right;\">\n",
       "      <th></th>\n",
       "      <th>MovieID</th>\n",
       "      <th>Title</th>\n",
       "      <th>Genres</th>\n",
       "    </tr>\n",
       "  </thead>\n",
       "  <tbody>\n",
       "    <tr>\n",
       "      <th>0</th>\n",
       "      <td>1</td>\n",
       "      <td>Toy Story (1995)</td>\n",
       "      <td>Animation|Children's|Comedy</td>\n",
       "    </tr>\n",
       "    <tr>\n",
       "      <th>1</th>\n",
       "      <td>2</td>\n",
       "      <td>Jumanji (1995)</td>\n",
       "      <td>Adventure|Children's|Fantasy</td>\n",
       "    </tr>\n",
       "    <tr>\n",
       "      <th>2</th>\n",
       "      <td>3</td>\n",
       "      <td>Grumpier Old Men (1995)</td>\n",
       "      <td>Comedy|Romance</td>\n",
       "    </tr>\n",
       "    <tr>\n",
       "      <th>3</th>\n",
       "      <td>4</td>\n",
       "      <td>Waiting to Exhale (1995)</td>\n",
       "      <td>Comedy|Drama</td>\n",
       "    </tr>\n",
       "    <tr>\n",
       "      <th>4</th>\n",
       "      <td>5</td>\n",
       "      <td>Father of the Bride Part II (1995)</td>\n",
       "      <td>Comedy</td>\n",
       "    </tr>\n",
       "  </tbody>\n",
       "</table>\n",
       "</div>"
      ],
      "text/plain": [
       "   MovieID                               Title                        Genres\n",
       "0        1                    Toy Story (1995)   Animation|Children's|Comedy\n",
       "1        2                      Jumanji (1995)  Adventure|Children's|Fantasy\n",
       "2        3             Grumpier Old Men (1995)                Comedy|Romance\n",
       "3        4            Waiting to Exhale (1995)                  Comedy|Drama\n",
       "4        5  Father of the Bride Part II (1995)                        Comedy"
      ]
     },
     "execution_count": 4,
     "metadata": {},
     "output_type": "execute_result"
    }
   ],
   "source": [
    "movi_data.head()"
   ]
  },
  {
   "cell_type": "code",
   "execution_count": 5,
   "id": "8dc284d7",
   "metadata": {},
   "outputs": [
    {
     "data": {
      "text/plain": [
       "(3883, 3)"
      ]
     },
     "execution_count": 5,
     "metadata": {},
     "output_type": "execute_result"
    }
   ],
   "source": [
    "movi_data.shape"
   ]
  },
  {
   "cell_type": "code",
   "execution_count": 6,
   "id": "8efed21c",
   "metadata": {},
   "outputs": [
    {
     "name": "stdout",
     "output_type": "stream",
     "text": [
      "<class 'pandas.core.frame.DataFrame'>\n",
      "RangeIndex: 3883 entries, 0 to 3882\n",
      "Data columns (total 3 columns):\n",
      " #   Column   Non-Null Count  Dtype \n",
      "---  ------   --------------  ----- \n",
      " 0   MovieID  3883 non-null   int32 \n",
      " 1   Title    3883 non-null   object\n",
      " 2   Genres   3883 non-null   object\n",
      "dtypes: int32(1), object(2)\n",
      "memory usage: 76.0+ KB\n"
     ]
    }
   ],
   "source": [
    "movi_data.info()"
   ]
  },
  {
   "cell_type": "code",
   "execution_count": 7,
   "id": "c769771c",
   "metadata": {},
   "outputs": [
    {
     "data": {
      "text/plain": [
       "MovieID    0\n",
       "Title      0\n",
       "Genres     0\n",
       "dtype: int64"
      ]
     },
     "execution_count": 7,
     "metadata": {},
     "output_type": "execute_result"
    }
   ],
   "source": [
    "movi_data.isnull().sum()"
   ]
  },
  {
   "cell_type": "code",
   "execution_count": 8,
   "id": "f483e083",
   "metadata": {},
   "outputs": [],
   "source": [
    "#There are no empty colums in movi_data"
   ]
  },
  {
   "cell_type": "code",
   "execution_count": 9,
   "id": "c950331e",
   "metadata": {},
   "outputs": [
    {
     "name": "stdout",
     "output_type": "stream",
     "text": [
      "<class 'pandas.core.frame.DataFrame'>\n",
      "RangeIndex: 1000209 entries, 0 to 1000208\n",
      "Data columns (total 4 columns):\n",
      " #   Column     Non-Null Count    Dtype \n",
      "---  ------     --------------    ----- \n",
      " 0   UserID     1000209 non-null  int32 \n",
      " 1   MovieID    1000209 non-null  int64 \n",
      " 2   Rating     1000209 non-null  int32 \n",
      " 3   Timestamp  1000209 non-null  object\n",
      "dtypes: int32(2), int64(1), object(1)\n",
      "memory usage: 22.9+ MB\n"
     ]
    },
    {
     "data": {
      "text/plain": [
       "UserID       0\n",
       "MovieID      0\n",
       "Rating       0\n",
       "Timestamp    0\n",
       "dtype: int64"
      ]
     },
     "execution_count": 9,
     "metadata": {},
     "output_type": "execute_result"
    }
   ],
   "source": [
    "rating_data.info()\n",
    "rating_data.isnull().sum()"
   ]
  },
  {
   "cell_type": "code",
   "execution_count": 10,
   "id": "c810b843",
   "metadata": {},
   "outputs": [
    {
     "data": {
      "text/html": [
       "<div>\n",
       "<style scoped>\n",
       "    .dataframe tbody tr th:only-of-type {\n",
       "        vertical-align: middle;\n",
       "    }\n",
       "\n",
       "    .dataframe tbody tr th {\n",
       "        vertical-align: top;\n",
       "    }\n",
       "\n",
       "    .dataframe thead th {\n",
       "        text-align: right;\n",
       "    }\n",
       "</style>\n",
       "<table border=\"1\" class=\"dataframe\">\n",
       "  <thead>\n",
       "    <tr style=\"text-align: right;\">\n",
       "      <th></th>\n",
       "      <th>UserID</th>\n",
       "      <th>MovieID</th>\n",
       "      <th>Rating</th>\n",
       "      <th>Timestamp</th>\n",
       "    </tr>\n",
       "  </thead>\n",
       "  <tbody>\n",
       "    <tr>\n",
       "      <th>0</th>\n",
       "      <td>1</td>\n",
       "      <td>1193</td>\n",
       "      <td>5</td>\n",
       "      <td>978300760</td>\n",
       "    </tr>\n",
       "    <tr>\n",
       "      <th>1</th>\n",
       "      <td>1</td>\n",
       "      <td>661</td>\n",
       "      <td>3</td>\n",
       "      <td>978302109</td>\n",
       "    </tr>\n",
       "    <tr>\n",
       "      <th>2</th>\n",
       "      <td>1</td>\n",
       "      <td>914</td>\n",
       "      <td>3</td>\n",
       "      <td>978301968</td>\n",
       "    </tr>\n",
       "    <tr>\n",
       "      <th>3</th>\n",
       "      <td>1</td>\n",
       "      <td>3408</td>\n",
       "      <td>4</td>\n",
       "      <td>978300275</td>\n",
       "    </tr>\n",
       "    <tr>\n",
       "      <th>4</th>\n",
       "      <td>1</td>\n",
       "      <td>2355</td>\n",
       "      <td>5</td>\n",
       "      <td>978824291</td>\n",
       "    </tr>\n",
       "  </tbody>\n",
       "</table>\n",
       "</div>"
      ],
      "text/plain": [
       "   UserID  MovieID  Rating  Timestamp\n",
       "0       1     1193       5  978300760\n",
       "1       1      661       3  978302109\n",
       "2       1      914       3  978301968\n",
       "3       1     3408       4  978300275\n",
       "4       1     2355       5  978824291"
      ]
     },
     "execution_count": 10,
     "metadata": {},
     "output_type": "execute_result"
    }
   ],
   "source": [
    "rating_data.head()"
   ]
  },
  {
   "cell_type": "code",
   "execution_count": 11,
   "id": "0224921f",
   "metadata": {},
   "outputs": [
    {
     "data": {
      "text/plain": [
       "(1000209, 4)"
      ]
     },
     "execution_count": 11,
     "metadata": {},
     "output_type": "execute_result"
    }
   ],
   "source": [
    "rating_data.shape"
   ]
  },
  {
   "cell_type": "code",
   "execution_count": 12,
   "id": "d181aa68",
   "metadata": {},
   "outputs": [],
   "source": [
    "#There are no empty colums in rating_data"
   ]
  },
  {
   "cell_type": "code",
   "execution_count": 13,
   "id": "a5c9f3da",
   "metadata": {},
   "outputs": [
    {
     "name": "stdout",
     "output_type": "stream",
     "text": [
      "<class 'pandas.core.frame.DataFrame'>\n",
      "RangeIndex: 6040 entries, 0 to 6039\n",
      "Data columns (total 5 columns):\n",
      " #   Column      Non-Null Count  Dtype \n",
      "---  ------      --------------  ----- \n",
      " 0   UserID      6040 non-null   int32 \n",
      " 1   Gender      6040 non-null   object\n",
      " 2   Age         6040 non-null   int32 \n",
      " 3   Occupation  6040 non-null   int32 \n",
      " 4   Zip_Code    6040 non-null   object\n",
      "dtypes: int32(3), object(2)\n",
      "memory usage: 165.3+ KB\n"
     ]
    },
    {
     "data": {
      "text/plain": [
       "UserID        0\n",
       "Gender        0\n",
       "Age           0\n",
       "Occupation    0\n",
       "Zip_Code      0\n",
       "dtype: int64"
      ]
     },
     "execution_count": 13,
     "metadata": {},
     "output_type": "execute_result"
    }
   ],
   "source": [
    "user_data.info()\n",
    "user_data.isnull().sum()"
   ]
  },
  {
   "cell_type": "code",
   "execution_count": 14,
   "id": "cba61ea9",
   "metadata": {},
   "outputs": [
    {
     "data": {
      "text/html": [
       "<div>\n",
       "<style scoped>\n",
       "    .dataframe tbody tr th:only-of-type {\n",
       "        vertical-align: middle;\n",
       "    }\n",
       "\n",
       "    .dataframe tbody tr th {\n",
       "        vertical-align: top;\n",
       "    }\n",
       "\n",
       "    .dataframe thead th {\n",
       "        text-align: right;\n",
       "    }\n",
       "</style>\n",
       "<table border=\"1\" class=\"dataframe\">\n",
       "  <thead>\n",
       "    <tr style=\"text-align: right;\">\n",
       "      <th></th>\n",
       "      <th>UserID</th>\n",
       "      <th>Gender</th>\n",
       "      <th>Age</th>\n",
       "      <th>Occupation</th>\n",
       "      <th>Zip_Code</th>\n",
       "    </tr>\n",
       "  </thead>\n",
       "  <tbody>\n",
       "    <tr>\n",
       "      <th>0</th>\n",
       "      <td>1</td>\n",
       "      <td>F</td>\n",
       "      <td>1</td>\n",
       "      <td>10</td>\n",
       "      <td>48067</td>\n",
       "    </tr>\n",
       "    <tr>\n",
       "      <th>1</th>\n",
       "      <td>2</td>\n",
       "      <td>M</td>\n",
       "      <td>56</td>\n",
       "      <td>16</td>\n",
       "      <td>70072</td>\n",
       "    </tr>\n",
       "    <tr>\n",
       "      <th>2</th>\n",
       "      <td>3</td>\n",
       "      <td>M</td>\n",
       "      <td>25</td>\n",
       "      <td>15</td>\n",
       "      <td>55117</td>\n",
       "    </tr>\n",
       "    <tr>\n",
       "      <th>3</th>\n",
       "      <td>4</td>\n",
       "      <td>M</td>\n",
       "      <td>45</td>\n",
       "      <td>7</td>\n",
       "      <td>02460</td>\n",
       "    </tr>\n",
       "    <tr>\n",
       "      <th>4</th>\n",
       "      <td>5</td>\n",
       "      <td>M</td>\n",
       "      <td>25</td>\n",
       "      <td>20</td>\n",
       "      <td>55455</td>\n",
       "    </tr>\n",
       "  </tbody>\n",
       "</table>\n",
       "</div>"
      ],
      "text/plain": [
       "   UserID Gender  Age  Occupation Zip_Code\n",
       "0       1      F    1          10    48067\n",
       "1       2      M   56          16    70072\n",
       "2       3      M   25          15    55117\n",
       "3       4      M   45           7    02460\n",
       "4       5      M   25          20    55455"
      ]
     },
     "execution_count": 14,
     "metadata": {},
     "output_type": "execute_result"
    }
   ],
   "source": [
    "user_data.head()"
   ]
  },
  {
   "cell_type": "code",
   "execution_count": 15,
   "id": "7ff096f7",
   "metadata": {},
   "outputs": [
    {
     "data": {
      "text/plain": [
       "(6040, 5)"
      ]
     },
     "execution_count": 15,
     "metadata": {},
     "output_type": "execute_result"
    }
   ],
   "source": [
    "user_data.shape"
   ]
  },
  {
   "cell_type": "code",
   "execution_count": 16,
   "id": "e6869778",
   "metadata": {},
   "outputs": [],
   "source": [
    "#There are no empty colums in user_data"
   ]
  },
  {
   "cell_type": "markdown",
   "id": "83da8ab0",
   "metadata": {},
   "source": [
    "**Create a new dataset [Master_Data] with the following columns MovieID Title UserID Age Gender Occupation Rating**"
   ]
  },
  {
   "cell_type": "code",
   "execution_count": 17,
   "id": "6ceab5a7",
   "metadata": {},
   "outputs": [
    {
     "data": {
      "text/html": [
       "<div>\n",
       "<style scoped>\n",
       "    .dataframe tbody tr th:only-of-type {\n",
       "        vertical-align: middle;\n",
       "    }\n",
       "\n",
       "    .dataframe tbody tr th {\n",
       "        vertical-align: top;\n",
       "    }\n",
       "\n",
       "    .dataframe thead th {\n",
       "        text-align: right;\n",
       "    }\n",
       "</style>\n",
       "<table border=\"1\" class=\"dataframe\">\n",
       "  <thead>\n",
       "    <tr style=\"text-align: right;\">\n",
       "      <th></th>\n",
       "      <th>MovieID</th>\n",
       "      <th>Title</th>\n",
       "      <th>Genres</th>\n",
       "      <th>UserID</th>\n",
       "      <th>Rating</th>\n",
       "      <th>Timestamp</th>\n",
       "    </tr>\n",
       "  </thead>\n",
       "  <tbody>\n",
       "    <tr>\n",
       "      <th>0</th>\n",
       "      <td>1</td>\n",
       "      <td>Toy Story (1995)</td>\n",
       "      <td>Animation|Children's|Comedy</td>\n",
       "      <td>1</td>\n",
       "      <td>5</td>\n",
       "      <td>978824268</td>\n",
       "    </tr>\n",
       "    <tr>\n",
       "      <th>1</th>\n",
       "      <td>1</td>\n",
       "      <td>Toy Story (1995)</td>\n",
       "      <td>Animation|Children's|Comedy</td>\n",
       "      <td>6</td>\n",
       "      <td>4</td>\n",
       "      <td>978237008</td>\n",
       "    </tr>\n",
       "    <tr>\n",
       "      <th>2</th>\n",
       "      <td>1</td>\n",
       "      <td>Toy Story (1995)</td>\n",
       "      <td>Animation|Children's|Comedy</td>\n",
       "      <td>8</td>\n",
       "      <td>4</td>\n",
       "      <td>978233496</td>\n",
       "    </tr>\n",
       "    <tr>\n",
       "      <th>3</th>\n",
       "      <td>1</td>\n",
       "      <td>Toy Story (1995)</td>\n",
       "      <td>Animation|Children's|Comedy</td>\n",
       "      <td>9</td>\n",
       "      <td>5</td>\n",
       "      <td>978225952</td>\n",
       "    </tr>\n",
       "    <tr>\n",
       "      <th>4</th>\n",
       "      <td>1</td>\n",
       "      <td>Toy Story (1995)</td>\n",
       "      <td>Animation|Children's|Comedy</td>\n",
       "      <td>10</td>\n",
       "      <td>5</td>\n",
       "      <td>978226474</td>\n",
       "    </tr>\n",
       "    <tr>\n",
       "      <th>...</th>\n",
       "      <td>...</td>\n",
       "      <td>...</td>\n",
       "      <td>...</td>\n",
       "      <td>...</td>\n",
       "      <td>...</td>\n",
       "      <td>...</td>\n",
       "    </tr>\n",
       "    <tr>\n",
       "      <th>1000204</th>\n",
       "      <td>3952</td>\n",
       "      <td>Contender, The (2000)</td>\n",
       "      <td>Drama|Thriller</td>\n",
       "      <td>5812</td>\n",
       "      <td>4</td>\n",
       "      <td>992072099</td>\n",
       "    </tr>\n",
       "    <tr>\n",
       "      <th>1000205</th>\n",
       "      <td>3952</td>\n",
       "      <td>Contender, The (2000)</td>\n",
       "      <td>Drama|Thriller</td>\n",
       "      <td>5831</td>\n",
       "      <td>3</td>\n",
       "      <td>986223125</td>\n",
       "    </tr>\n",
       "    <tr>\n",
       "      <th>1000206</th>\n",
       "      <td>3952</td>\n",
       "      <td>Contender, The (2000)</td>\n",
       "      <td>Drama|Thriller</td>\n",
       "      <td>5837</td>\n",
       "      <td>4</td>\n",
       "      <td>1011902656</td>\n",
       "    </tr>\n",
       "    <tr>\n",
       "      <th>1000207</th>\n",
       "      <td>3952</td>\n",
       "      <td>Contender, The (2000)</td>\n",
       "      <td>Drama|Thriller</td>\n",
       "      <td>5927</td>\n",
       "      <td>1</td>\n",
       "      <td>979852537</td>\n",
       "    </tr>\n",
       "    <tr>\n",
       "      <th>1000208</th>\n",
       "      <td>3952</td>\n",
       "      <td>Contender, The (2000)</td>\n",
       "      <td>Drama|Thriller</td>\n",
       "      <td>5998</td>\n",
       "      <td>4</td>\n",
       "      <td>1001781044</td>\n",
       "    </tr>\n",
       "  </tbody>\n",
       "</table>\n",
       "<p>1000209 rows × 6 columns</p>\n",
       "</div>"
      ],
      "text/plain": [
       "         MovieID                  Title                       Genres  UserID  \\\n",
       "0              1       Toy Story (1995)  Animation|Children's|Comedy       1   \n",
       "1              1       Toy Story (1995)  Animation|Children's|Comedy       6   \n",
       "2              1       Toy Story (1995)  Animation|Children's|Comedy       8   \n",
       "3              1       Toy Story (1995)  Animation|Children's|Comedy       9   \n",
       "4              1       Toy Story (1995)  Animation|Children's|Comedy      10   \n",
       "...          ...                    ...                          ...     ...   \n",
       "1000204     3952  Contender, The (2000)               Drama|Thriller    5812   \n",
       "1000205     3952  Contender, The (2000)               Drama|Thriller    5831   \n",
       "1000206     3952  Contender, The (2000)               Drama|Thriller    5837   \n",
       "1000207     3952  Contender, The (2000)               Drama|Thriller    5927   \n",
       "1000208     3952  Contender, The (2000)               Drama|Thriller    5998   \n",
       "\n",
       "         Rating   Timestamp  \n",
       "0             5   978824268  \n",
       "1             4   978237008  \n",
       "2             4   978233496  \n",
       "3             5   978225952  \n",
       "4             5   978226474  \n",
       "...         ...         ...  \n",
       "1000204       4   992072099  \n",
       "1000205       3   986223125  \n",
       "1000206       4  1011902656  \n",
       "1000207       1   979852537  \n",
       "1000208       4  1001781044  \n",
       "\n",
       "[1000209 rows x 6 columns]"
      ]
     },
     "execution_count": 17,
     "metadata": {},
     "output_type": "execute_result"
    }
   ],
   "source": [
    "first_two_data_merging = pd.merge(movi_data, rating_data, on = 'MovieID')\n",
    "first_two_data_merging"
   ]
  },
  {
   "cell_type": "code",
   "execution_count": 18,
   "id": "f4b56e28",
   "metadata": {},
   "outputs": [
    {
     "data": {
      "text/html": [
       "<div>\n",
       "<style scoped>\n",
       "    .dataframe tbody tr th:only-of-type {\n",
       "        vertical-align: middle;\n",
       "    }\n",
       "\n",
       "    .dataframe tbody tr th {\n",
       "        vertical-align: top;\n",
       "    }\n",
       "\n",
       "    .dataframe thead th {\n",
       "        text-align: right;\n",
       "    }\n",
       "</style>\n",
       "<table border=\"1\" class=\"dataframe\">\n",
       "  <thead>\n",
       "    <tr style=\"text-align: right;\">\n",
       "      <th></th>\n",
       "      <th>MovieID</th>\n",
       "      <th>Title</th>\n",
       "      <th>Genres</th>\n",
       "      <th>UserID</th>\n",
       "      <th>Rating</th>\n",
       "      <th>Timestamp</th>\n",
       "      <th>Gender</th>\n",
       "      <th>Age</th>\n",
       "      <th>Occupation</th>\n",
       "      <th>Zip_Code</th>\n",
       "    </tr>\n",
       "  </thead>\n",
       "  <tbody>\n",
       "    <tr>\n",
       "      <th>0</th>\n",
       "      <td>1</td>\n",
       "      <td>Toy Story (1995)</td>\n",
       "      <td>Animation|Children's|Comedy</td>\n",
       "      <td>1</td>\n",
       "      <td>5</td>\n",
       "      <td>978824268</td>\n",
       "      <td>F</td>\n",
       "      <td>1</td>\n",
       "      <td>10</td>\n",
       "      <td>48067</td>\n",
       "    </tr>\n",
       "    <tr>\n",
       "      <th>1</th>\n",
       "      <td>48</td>\n",
       "      <td>Pocahontas (1995)</td>\n",
       "      <td>Animation|Children's|Musical|Romance</td>\n",
       "      <td>1</td>\n",
       "      <td>5</td>\n",
       "      <td>978824351</td>\n",
       "      <td>F</td>\n",
       "      <td>1</td>\n",
       "      <td>10</td>\n",
       "      <td>48067</td>\n",
       "    </tr>\n",
       "    <tr>\n",
       "      <th>2</th>\n",
       "      <td>150</td>\n",
       "      <td>Apollo 13 (1995)</td>\n",
       "      <td>Drama</td>\n",
       "      <td>1</td>\n",
       "      <td>5</td>\n",
       "      <td>978301777</td>\n",
       "      <td>F</td>\n",
       "      <td>1</td>\n",
       "      <td>10</td>\n",
       "      <td>48067</td>\n",
       "    </tr>\n",
       "    <tr>\n",
       "      <th>3</th>\n",
       "      <td>260</td>\n",
       "      <td>Star Wars: Episode IV - A New Hope (1977)</td>\n",
       "      <td>Action|Adventure|Fantasy|Sci-Fi</td>\n",
       "      <td>1</td>\n",
       "      <td>4</td>\n",
       "      <td>978300760</td>\n",
       "      <td>F</td>\n",
       "      <td>1</td>\n",
       "      <td>10</td>\n",
       "      <td>48067</td>\n",
       "    </tr>\n",
       "    <tr>\n",
       "      <th>4</th>\n",
       "      <td>527</td>\n",
       "      <td>Schindler's List (1993)</td>\n",
       "      <td>Drama|War</td>\n",
       "      <td>1</td>\n",
       "      <td>5</td>\n",
       "      <td>978824195</td>\n",
       "      <td>F</td>\n",
       "      <td>1</td>\n",
       "      <td>10</td>\n",
       "      <td>48067</td>\n",
       "    </tr>\n",
       "    <tr>\n",
       "      <th>5</th>\n",
       "      <td>531</td>\n",
       "      <td>Secret Garden, The (1993)</td>\n",
       "      <td>Children's|Drama</td>\n",
       "      <td>1</td>\n",
       "      <td>4</td>\n",
       "      <td>978302149</td>\n",
       "      <td>F</td>\n",
       "      <td>1</td>\n",
       "      <td>10</td>\n",
       "      <td>48067</td>\n",
       "    </tr>\n",
       "    <tr>\n",
       "      <th>6</th>\n",
       "      <td>588</td>\n",
       "      <td>Aladdin (1992)</td>\n",
       "      <td>Animation|Children's|Comedy|Musical</td>\n",
       "      <td>1</td>\n",
       "      <td>4</td>\n",
       "      <td>978824268</td>\n",
       "      <td>F</td>\n",
       "      <td>1</td>\n",
       "      <td>10</td>\n",
       "      <td>48067</td>\n",
       "    </tr>\n",
       "    <tr>\n",
       "      <th>7</th>\n",
       "      <td>594</td>\n",
       "      <td>Snow White and the Seven Dwarfs (1937)</td>\n",
       "      <td>Animation|Children's|Musical</td>\n",
       "      <td>1</td>\n",
       "      <td>4</td>\n",
       "      <td>978302268</td>\n",
       "      <td>F</td>\n",
       "      <td>1</td>\n",
       "      <td>10</td>\n",
       "      <td>48067</td>\n",
       "    </tr>\n",
       "    <tr>\n",
       "      <th>8</th>\n",
       "      <td>595</td>\n",
       "      <td>Beauty and the Beast (1991)</td>\n",
       "      <td>Animation|Children's|Musical</td>\n",
       "      <td>1</td>\n",
       "      <td>5</td>\n",
       "      <td>978824268</td>\n",
       "      <td>F</td>\n",
       "      <td>1</td>\n",
       "      <td>10</td>\n",
       "      <td>48067</td>\n",
       "    </tr>\n",
       "    <tr>\n",
       "      <th>9</th>\n",
       "      <td>608</td>\n",
       "      <td>Fargo (1996)</td>\n",
       "      <td>Crime|Drama|Thriller</td>\n",
       "      <td>1</td>\n",
       "      <td>4</td>\n",
       "      <td>978301398</td>\n",
       "      <td>F</td>\n",
       "      <td>1</td>\n",
       "      <td>10</td>\n",
       "      <td>48067</td>\n",
       "    </tr>\n",
       "  </tbody>\n",
       "</table>\n",
       "</div>"
      ],
      "text/plain": [
       "   MovieID                                      Title  \\\n",
       "0        1                           Toy Story (1995)   \n",
       "1       48                          Pocahontas (1995)   \n",
       "2      150                           Apollo 13 (1995)   \n",
       "3      260  Star Wars: Episode IV - A New Hope (1977)   \n",
       "4      527                    Schindler's List (1993)   \n",
       "5      531                  Secret Garden, The (1993)   \n",
       "6      588                             Aladdin (1992)   \n",
       "7      594     Snow White and the Seven Dwarfs (1937)   \n",
       "8      595                Beauty and the Beast (1991)   \n",
       "9      608                               Fargo (1996)   \n",
       "\n",
       "                                 Genres  UserID  Rating  Timestamp Gender  \\\n",
       "0           Animation|Children's|Comedy       1       5  978824268      F   \n",
       "1  Animation|Children's|Musical|Romance       1       5  978824351      F   \n",
       "2                                 Drama       1       5  978301777      F   \n",
       "3       Action|Adventure|Fantasy|Sci-Fi       1       4  978300760      F   \n",
       "4                             Drama|War       1       5  978824195      F   \n",
       "5                      Children's|Drama       1       4  978302149      F   \n",
       "6   Animation|Children's|Comedy|Musical       1       4  978824268      F   \n",
       "7          Animation|Children's|Musical       1       4  978302268      F   \n",
       "8          Animation|Children's|Musical       1       5  978824268      F   \n",
       "9                  Crime|Drama|Thriller       1       4  978301398      F   \n",
       "\n",
       "   Age  Occupation Zip_Code  \n",
       "0    1          10    48067  \n",
       "1    1          10    48067  \n",
       "2    1          10    48067  \n",
       "3    1          10    48067  \n",
       "4    1          10    48067  \n",
       "5    1          10    48067  \n",
       "6    1          10    48067  \n",
       "7    1          10    48067  \n",
       "8    1          10    48067  \n",
       "9    1          10    48067  "
      ]
     },
     "execution_count": 18,
     "metadata": {},
     "output_type": "execute_result"
    }
   ],
   "source": [
    "all_Three_Data = pd.merge(first_two_data_merging, user_data, on = 'UserID')\n",
    "all_Three_Data.head(10)"
   ]
  },
  {
   "cell_type": "code",
   "execution_count": 19,
   "id": "776770eb",
   "metadata": {},
   "outputs": [
    {
     "data": {
      "text/html": [
       "<div>\n",
       "<style scoped>\n",
       "    .dataframe tbody tr th:only-of-type {\n",
       "        vertical-align: middle;\n",
       "    }\n",
       "\n",
       "    .dataframe tbody tr th {\n",
       "        vertical-align: top;\n",
       "    }\n",
       "\n",
       "    .dataframe thead th {\n",
       "        text-align: right;\n",
       "    }\n",
       "</style>\n",
       "<table border=\"1\" class=\"dataframe\">\n",
       "  <thead>\n",
       "    <tr style=\"text-align: right;\">\n",
       "      <th></th>\n",
       "      <th>MovieID</th>\n",
       "      <th>Title</th>\n",
       "      <th>UserID</th>\n",
       "      <th>Age</th>\n",
       "      <th>Gender</th>\n",
       "      <th>Occupation</th>\n",
       "      <th>Rating</th>\n",
       "    </tr>\n",
       "  </thead>\n",
       "  <tbody>\n",
       "    <tr>\n",
       "      <th>0</th>\n",
       "      <td>1</td>\n",
       "      <td>Toy Story (1995)</td>\n",
       "      <td>1</td>\n",
       "      <td>1</td>\n",
       "      <td>F</td>\n",
       "      <td>10</td>\n",
       "      <td>5</td>\n",
       "    </tr>\n",
       "    <tr>\n",
       "      <th>1</th>\n",
       "      <td>48</td>\n",
       "      <td>Pocahontas (1995)</td>\n",
       "      <td>1</td>\n",
       "      <td>1</td>\n",
       "      <td>F</td>\n",
       "      <td>10</td>\n",
       "      <td>5</td>\n",
       "    </tr>\n",
       "    <tr>\n",
       "      <th>2</th>\n",
       "      <td>150</td>\n",
       "      <td>Apollo 13 (1995)</td>\n",
       "      <td>1</td>\n",
       "      <td>1</td>\n",
       "      <td>F</td>\n",
       "      <td>10</td>\n",
       "      <td>5</td>\n",
       "    </tr>\n",
       "    <tr>\n",
       "      <th>3</th>\n",
       "      <td>260</td>\n",
       "      <td>Star Wars: Episode IV - A New Hope (1977)</td>\n",
       "      <td>1</td>\n",
       "      <td>1</td>\n",
       "      <td>F</td>\n",
       "      <td>10</td>\n",
       "      <td>4</td>\n",
       "    </tr>\n",
       "    <tr>\n",
       "      <th>4</th>\n",
       "      <td>527</td>\n",
       "      <td>Schindler's List (1993)</td>\n",
       "      <td>1</td>\n",
       "      <td>1</td>\n",
       "      <td>F</td>\n",
       "      <td>10</td>\n",
       "      <td>5</td>\n",
       "    </tr>\n",
       "    <tr>\n",
       "      <th>5</th>\n",
       "      <td>531</td>\n",
       "      <td>Secret Garden, The (1993)</td>\n",
       "      <td>1</td>\n",
       "      <td>1</td>\n",
       "      <td>F</td>\n",
       "      <td>10</td>\n",
       "      <td>4</td>\n",
       "    </tr>\n",
       "    <tr>\n",
       "      <th>6</th>\n",
       "      <td>588</td>\n",
       "      <td>Aladdin (1992)</td>\n",
       "      <td>1</td>\n",
       "      <td>1</td>\n",
       "      <td>F</td>\n",
       "      <td>10</td>\n",
       "      <td>4</td>\n",
       "    </tr>\n",
       "    <tr>\n",
       "      <th>7</th>\n",
       "      <td>594</td>\n",
       "      <td>Snow White and the Seven Dwarfs (1937)</td>\n",
       "      <td>1</td>\n",
       "      <td>1</td>\n",
       "      <td>F</td>\n",
       "      <td>10</td>\n",
       "      <td>4</td>\n",
       "    </tr>\n",
       "    <tr>\n",
       "      <th>8</th>\n",
       "      <td>595</td>\n",
       "      <td>Beauty and the Beast (1991)</td>\n",
       "      <td>1</td>\n",
       "      <td>1</td>\n",
       "      <td>F</td>\n",
       "      <td>10</td>\n",
       "      <td>5</td>\n",
       "    </tr>\n",
       "    <tr>\n",
       "      <th>9</th>\n",
       "      <td>608</td>\n",
       "      <td>Fargo (1996)</td>\n",
       "      <td>1</td>\n",
       "      <td>1</td>\n",
       "      <td>F</td>\n",
       "      <td>10</td>\n",
       "      <td>4</td>\n",
       "    </tr>\n",
       "  </tbody>\n",
       "</table>\n",
       "</div>"
      ],
      "text/plain": [
       "   MovieID                                      Title  UserID  Age Gender  \\\n",
       "0        1                           Toy Story (1995)       1    1      F   \n",
       "1       48                          Pocahontas (1995)       1    1      F   \n",
       "2      150                           Apollo 13 (1995)       1    1      F   \n",
       "3      260  Star Wars: Episode IV - A New Hope (1977)       1    1      F   \n",
       "4      527                    Schindler's List (1993)       1    1      F   \n",
       "5      531                  Secret Garden, The (1993)       1    1      F   \n",
       "6      588                             Aladdin (1992)       1    1      F   \n",
       "7      594     Snow White and the Seven Dwarfs (1937)       1    1      F   \n",
       "8      595                Beauty and the Beast (1991)       1    1      F   \n",
       "9      608                               Fargo (1996)       1    1      F   \n",
       "\n",
       "   Occupation  Rating  \n",
       "0          10       5  \n",
       "1          10       5  \n",
       "2          10       5  \n",
       "3          10       4  \n",
       "4          10       5  \n",
       "5          10       4  \n",
       "6          10       4  \n",
       "7          10       4  \n",
       "8          10       5  \n",
       "9          10       4  "
      ]
     },
     "execution_count": 19,
     "metadata": {},
     "output_type": "execute_result"
    }
   ],
   "source": [
    "master_Data = all_Three_Data[['MovieID','Title','UserID','Age','Gender','Occupation','Rating']]\n",
    "master_Data.head(10)"
   ]
  },
  {
   "cell_type": "code",
   "execution_count": 48,
   "id": "276c3c61",
   "metadata": {},
   "outputs": [
    {
     "data": {
      "text/plain": [
       "(array([0.5, 1.5, 2.5, 3.5, 4.5]),\n",
       " [Text(0.5, 0, 'MovieID'),\n",
       "  Text(1.5, 0, 'UserID'),\n",
       "  Text(2.5, 0, 'Age'),\n",
       "  Text(3.5, 0, 'Occupation'),\n",
       "  Text(4.5, 0, 'Rating')])"
      ]
     },
     "execution_count": 48,
     "metadata": {},
     "output_type": "execute_result"
    },
    {
     "data": {
      "image/png": "[encoded data removed]",
      "text/plain": [
       "<Figure size 720x576 with 2 Axes>"
      ]
     },
     "metadata": {
      "needs_background": "light"
     },
     "output_type": "display_data"
    }
   ],
   "source": [
    "correlation = master_Data.corr()\n",
    "plt.figure(figsize=(10,8))\n",
    "sns.heatmap(data=correlation,square=True,annot=True)\n",
    "plt.yticks(rotation=0)\n",
    "plt.xticks(rotation=90)"
   ]
  },
  {
   "cell_type": "code",
   "execution_count": 20,
   "id": "e5bfac30",
   "metadata": {},
   "outputs": [
    {
     "name": "stdout",
     "output_type": "stream",
     "text": [
      "<class 'pandas.core.frame.DataFrame'>\n",
      "Int64Index: 1000209 entries, 0 to 1000208\n",
      "Data columns (total 7 columns):\n",
      " #   Column      Non-Null Count    Dtype \n",
      "---  ------      --------------    ----- \n",
      " 0   MovieID     1000209 non-null  int32 \n",
      " 1   Title       1000209 non-null  object\n",
      " 2   UserID      1000209 non-null  int32 \n",
      " 3   Age         1000209 non-null  int32 \n",
      " 4   Gender      1000209 non-null  object\n",
      " 5   Occupation  1000209 non-null  int32 \n",
      " 6   Rating      1000209 non-null  int32 \n",
      "dtypes: int32(5), object(2)\n",
      "memory usage: 42.0+ MB\n"
     ]
    }
   ],
   "source": [
    "master_Data.info()"
   ]
  },
  {
   "cell_type": "code",
   "execution_count": 21,
   "id": "de3621c4",
   "metadata": {},
   "outputs": [
    {
     "data": {
      "text/plain": [
       "(1000209, 7)"
      ]
     },
     "execution_count": 21,
     "metadata": {},
     "output_type": "execute_result"
    }
   ],
   "source": [
    "master_Data.shape"
   ]
  },
  {
   "cell_type": "code",
   "execution_count": 22,
   "id": "e4fe1a28",
   "metadata": {},
   "outputs": [
    {
     "data": {
      "text/plain": [
       "MovieID       0\n",
       "Title         0\n",
       "UserID        0\n",
       "Age           0\n",
       "Gender        0\n",
       "Occupation    0\n",
       "Rating        0\n",
       "dtype: int64"
      ]
     },
     "execution_count": 22,
     "metadata": {},
     "output_type": "execute_result"
    }
   ],
   "source": [
    "master_Data.isnull().sum()"
   ]
  },
  {
   "cell_type": "markdown",
   "id": "7f8112ea",
   "metadata": {},
   "source": [
    "## Explore the datasets using visual representations (graphs or tables)"
   ]
  },
  {
   "cell_type": "markdown",
   "id": "4caecaeb",
   "metadata": {},
   "source": [
    "**1. User Age Distribution**"
   ]
  },
  {
   "cell_type": "code",
   "execution_count": 23,
   "id": "29115ba3",
   "metadata": {},
   "outputs": [
    {
     "data": {
      "image/png": "[encoded data removed]",
      "text/plain": [
       "<Figure size 720x576 with 1 Axes>"
      ]
     },
     "metadata": {
      "needs_background": "light"
     },
     "output_type": "display_data"
    }
   ],
   "source": [
    "plt.figure(figsize=(10,8))\n",
    "master_Data['Age'].value_counts().plot(kind='bar',color='b',alpha=0.50)\n",
    "plt.xlabel('Age in Years')\n",
    "plt.ylabel('No. of movies watched')\n",
    "plt.title(\"User Age Distribution\")\n",
    "plt.show()"
   ]
  },
  {
   "cell_type": "markdown",
   "id": "2486100d",
   "metadata": {},
   "source": [
    "**Comments:-** Most movie watching age groups are 25 to 35 year old."
   ]
  },
  {
   "cell_type": "code",
   "execution_count": 24,
   "id": "126614f7",
   "metadata": {},
   "outputs": [
    {
     "data": {
      "image/png": "[encoded data removed]",
      "text/plain": [
       "<Figure size 720x576 with 1 Axes>"
      ]
     },
     "metadata": {
      "needs_background": "light"
     },
     "output_type": "display_data"
    }
   ],
   "source": [
    "plt.figure(figsize=(10,8))\n",
    "master_Data['Gender'].value_counts().plot(kind='bar',color='g',alpha=0.50)\n",
    "plt.xlabel('Genders')\n",
    "plt.ylabel('No. of movies watched')\n",
    "plt.title(\"User Gender Distribution\")\n",
    "plt.show()"
   ]
  },
  {
   "cell_type": "markdown",
   "id": "3329c277",
   "metadata": {},
   "source": [
    "**Comments:-** Most movie watching by Male Genders."
   ]
  },
  {
   "cell_type": "markdown",
   "id": "7b1d810c",
   "metadata": {},
   "source": [
    "## 2. User rating of the movie “Toy Story”"
   ]
  },
  {
   "cell_type": "code",
   "execution_count": 25,
   "id": "6a181ecc",
   "metadata": {},
   "outputs": [
    {
     "name": "stdout",
     "output_type": "stream",
     "text": [
      "         MovieID               Title  UserID  Age Gender  Occupation  Rating\n",
      "0              1    Toy Story (1995)       1    1      F          10       5\n",
      "50          3114  Toy Story 2 (1999)       1    1      F          10       4\n",
      "53             1    Toy Story (1995)       6   50      F           9       4\n",
      "124            1    Toy Story (1995)       8   25      M          12       4\n",
      "263            1    Toy Story (1995)       9   25      M          17       5\n",
      "...          ...                 ...     ...  ...    ...         ...     ...\n",
      "998988      3114  Toy Story 2 (1999)    3023   25      F           7       4\n",
      "999027      3114  Toy Story 2 (1999)    5800   35      M          18       5\n",
      "999486      3114  Toy Story 2 (1999)    2189    1      M          10       4\n",
      "999869      3114  Toy Story 2 (1999)     159   45      F           0       4\n",
      "1000192     3114  Toy Story 2 (1999)    5727   25      M           4       5\n",
      "\n",
      "[3662 rows x 7 columns]\n"
     ]
    }
   ],
   "source": [
    "#creat datafram for toy story (1995)\n",
    "Toy_story = master_Data.loc[master_Data['Title'].str.contains(\"Toy Story\")]\n",
    "print (Toy_story)"
   ]
  },
  {
   "cell_type": "code",
   "execution_count": 26,
   "id": "0717f967",
   "metadata": {},
   "outputs": [
    {
     "data": {
      "text/plain": [
       "5    1544\n",
       "4    1413\n",
       "3     559\n",
       "2     105\n",
       "1      41\n",
       "Name: Rating, dtype: int64"
      ]
     },
     "execution_count": 26,
     "metadata": {},
     "output_type": "execute_result"
    }
   ],
   "source": [
    "#Count rating for Toy Story\n",
    "Toy_story['Rating'].value_counts()"
   ]
  },
  {
   "cell_type": "code",
   "execution_count": 27,
   "id": "b2bbd27d",
   "metadata": {},
   "outputs": [
    {
     "data": {
      "image/png": "[encoded data removed]",
      "text/plain": [
       "<Figure size 720x576 with 1 Axes>"
      ]
     },
     "metadata": {
      "needs_background": "light"
     },
     "output_type": "display_data"
    }
   ],
   "source": [
    "plt.figure(figsize=(10,8))\n",
    "Toy_story['Rating'].value_counts().plot(kind='bar',color='r',alpha=0.35)\n",
    "plt.xlabel('Rating for the Toy Story Movis')\n",
    "plt.ylabel('Rating Count')\n",
    "plt.title(\"Rating of Toy Storys\")\n",
    "plt.show()"
   ]
  },
  {
   "cell_type": "code",
   "execution_count": 28,
   "id": "e9f52099",
   "metadata": {},
   "outputs": [
    {
     "data": {
      "text/html": [
       "<div>\n",
       "<style scoped>\n",
       "    .dataframe tbody tr th:only-of-type {\n",
       "        vertical-align: middle;\n",
       "    }\n",
       "\n",
       "    .dataframe tbody tr th {\n",
       "        vertical-align: top;\n",
       "    }\n",
       "\n",
       "    .dataframe thead th {\n",
       "        text-align: right;\n",
       "    }\n",
       "</style>\n",
       "<table border=\"1\" class=\"dataframe\">\n",
       "  <thead>\n",
       "    <tr style=\"text-align: right;\">\n",
       "      <th></th>\n",
       "      <th>Rating</th>\n",
       "      <th>Rating Count</th>\n",
       "      <th>percent</th>\n",
       "    </tr>\n",
       "  </thead>\n",
       "  <tbody>\n",
       "    <tr>\n",
       "      <th>0</th>\n",
       "      <td>5</td>\n",
       "      <td>1544</td>\n",
       "      <td>42.162753</td>\n",
       "    </tr>\n",
       "    <tr>\n",
       "      <th>1</th>\n",
       "      <td>4</td>\n",
       "      <td>1413</td>\n",
       "      <td>38.585472</td>\n",
       "    </tr>\n",
       "    <tr>\n",
       "      <th>2</th>\n",
       "      <td>3</td>\n",
       "      <td>559</td>\n",
       "      <td>15.264883</td>\n",
       "    </tr>\n",
       "    <tr>\n",
       "      <th>3</th>\n",
       "      <td>2</td>\n",
       "      <td>105</td>\n",
       "      <td>2.867286</td>\n",
       "    </tr>\n",
       "    <tr>\n",
       "      <th>4</th>\n",
       "      <td>1</td>\n",
       "      <td>41</td>\n",
       "      <td>1.119607</td>\n",
       "    </tr>\n",
       "  </tbody>\n",
       "</table>\n",
       "</div>"
      ],
      "text/plain": [
       "  Rating  Rating Count    percent\n",
       "0      5          1544  42.162753\n",
       "1      4          1413  38.585472\n",
       "2      3           559  15.264883\n",
       "3      2           105   2.867286\n",
       "4      1            41   1.119607"
      ]
     },
     "execution_count": 28,
     "metadata": {},
     "output_type": "execute_result"
    }
   ],
   "source": [
    "# Dictionary\n",
    "df_movi_rating = {'Rating': ['5', '4', '3','2', '1'],'Rating Count': [1544, 1413, 559,105, 41]}\n",
    "# Create a DataFrame\n",
    "df_movi_rating = pd.DataFrame(df_movi_rating, columns = ['Rating','Rating Count'])\n",
    "  \n",
    "# Calculating Percentage\n",
    "df_movi_rating['percent'] = (df_movi_rating['Rating Count'] / \n",
    "                  df_movi_rating['Rating Count'].sum()) * 100\n",
    "  \n",
    "# Show the dataframe\n",
    "df_movi_rating.head()"
   ]
  },
  {
   "cell_type": "markdown",
   "id": "1cf1d727",
   "metadata": {},
   "source": [
    "**Comments:-** According to data, 42% people have given 5 star rating and 38% people have given 4 star rating to Toystory Movi."
   ]
  },
  {
   "cell_type": "code",
   "execution_count": 29,
   "id": "fc97212f",
   "metadata": {},
   "outputs": [
    {
     "data": {
      "image/png": "[encoded data removed]",
      "text/plain": [
       "<Figure size 720x576 with 1 Axes>"
      ]
     },
     "metadata": {
      "needs_background": "light"
     },
     "output_type": "display_data"
    }
   ],
   "source": [
    "Toy_story.groupby([\"Title\",\"Rating\"]).size().unstack().plot(kind='barh',stacked=False,legend=True,figsize=(10,8))\n",
    "plt.show()"
   ]
  },
  {
   "cell_type": "code",
   "execution_count": null,
   "id": "632c4d3e",
   "metadata": {},
   "outputs": [],
   "source": [
    "toy"
   ]
  },
  {
   "cell_type": "code",
   "execution_count": 51,
   "id": "b130d3f6",
   "metadata": {},
   "outputs": [
    {
     "data": {
      "text/html": [
       "<div>\n",
       "<style scoped>\n",
       "    .dataframe tbody tr th:only-of-type {\n",
       "        vertical-align: middle;\n",
       "    }\n",
       "\n",
       "    .dataframe tbody tr th {\n",
       "        vertical-align: top;\n",
       "    }\n",
       "\n",
       "    .dataframe thead th {\n",
       "        text-align: right;\n",
       "    }\n",
       "</style>\n",
       "<table border=\"1\" class=\"dataframe\">\n",
       "  <thead>\n",
       "    <tr style=\"text-align: right;\">\n",
       "      <th>Rating</th>\n",
       "      <th>1</th>\n",
       "      <th>2</th>\n",
       "      <th>3</th>\n",
       "      <th>4</th>\n",
       "      <th>5</th>\n",
       "    </tr>\n",
       "    <tr>\n",
       "      <th>Title</th>\n",
       "      <th></th>\n",
       "      <th></th>\n",
       "      <th></th>\n",
       "      <th></th>\n",
       "      <th></th>\n",
       "    </tr>\n",
       "  </thead>\n",
       "  <tbody>\n",
       "    <tr>\n",
       "      <th>Toy Story (1995)</th>\n",
       "      <td>16</td>\n",
       "      <td>61</td>\n",
       "      <td>345</td>\n",
       "      <td>835</td>\n",
       "      <td>820</td>\n",
       "    </tr>\n",
       "    <tr>\n",
       "      <th>Toy Story 2 (1999)</th>\n",
       "      <td>25</td>\n",
       "      <td>44</td>\n",
       "      <td>214</td>\n",
       "      <td>578</td>\n",
       "      <td>724</td>\n",
       "    </tr>\n",
       "  </tbody>\n",
       "</table>\n",
       "</div>"
      ],
      "text/plain": [
       "Rating               1   2    3    4    5\n",
       "Title                                    \n",
       "Toy Story (1995)    16  61  345  835  820\n",
       "Toy Story 2 (1999)  25  44  214  578  724"
      ]
     },
     "execution_count": 51,
     "metadata": {},
     "output_type": "execute_result"
    }
   ],
   "source": [
    "crosstab_toy_S = pd.crosstab(index=Toy_story['Title'],columns=Toy_story['Rating'])\n",
    "crosstab_toy_S"
   ]
  },
  {
   "cell_type": "code",
   "execution_count": 53,
   "id": "7b6d2bb1",
   "metadata": {},
   "outputs": [
    {
     "data": {
      "text/plain": [
       "<AxesSubplot:xlabel='Title'>"
      ]
     },
     "execution_count": 53,
     "metadata": {},
     "output_type": "execute_result"
    },
    {
     "data": {
      "image/png": "[encoded data removed]",
      "text/plain": [
       "<Figure size 720x576 with 1 Axes>"
      ]
     },
     "metadata": {
      "needs_background": "light"
     },
     "output_type": "display_data"
    }
   ],
   "source": [
    "crosstab_toy_S.plot(kind=\"bar\", figsize=(10,8), stacked=True, colormap = 'Paired')"
   ]
  },
  {
   "cell_type": "markdown",
   "id": "c99e6979",
   "metadata": {},
   "source": [
    "## 3. Top 25 movies by viewership rating"
   ]
  },
  {
   "cell_type": "code",
   "execution_count": 61,
   "id": "3c0c0c26",
   "metadata": {},
   "outputs": [
    {
     "data": {
      "text/plain": [
       "American Beauty (1999)                                   3428\n",
       "Star Wars: Episode IV - A New Hope (1977)                2991\n",
       "Star Wars: Episode V - The Empire Strikes Back (1980)    2990\n",
       "Star Wars: Episode VI - Return of the Jedi (1983)        2883\n",
       "Jurassic Park (1993)                                     2672\n",
       "Saving Private Ryan (1998)                               2653\n",
       "Terminator 2: Judgment Day (1991)                        2649\n",
       "Matrix, The (1999)                                       2590\n",
       "Back to the Future (1985)                                2583\n",
       "Silence of the Lambs, The (1991)                         2578\n",
       "Men in Black (1997)                                      2538\n",
       "Raiders of the Lost Ark (1981)                           2514\n",
       "Fargo (1996)                                             2513\n",
       "Sixth Sense, The (1999)                                  2459\n",
       "Braveheart (1995)                                        2443\n",
       "Shakespeare in Love (1998)                               2369\n",
       "Princess Bride, The (1987)                               2318\n",
       "Schindler's List (1993)                                  2304\n",
       "L.A. Confidential (1997)                                 2288\n",
       "Groundhog Day (1993)                                     2278\n",
       "E.T. the Extra-Terrestrial (1982)                        2269\n",
       "Star Wars: Episode I - The Phantom Menace (1999)         2250\n",
       "Being John Malkovich (1999)                              2241\n",
       "Shawshank Redemption, The (1994)                         2227\n",
       "Godfather, The (1972)                                    2223\n",
       "Name: Title, dtype: int64"
      ]
     },
     "execution_count": 61,
     "metadata": {},
     "output_type": "execute_result"
    }
   ],
   "source": [
    "# Explore Movi data for viewership by movie title\n",
    "movi_data_count_by_rating = master_Data['Title'].value_counts()[0:25]\n",
    "movi_data_count_by_rating"
   ]
  },
  {
   "cell_type": "code",
   "execution_count": 32,
   "id": "fc4a62ef",
   "metadata": {},
   "outputs": [
    {
     "data": {
      "text/html": [
       "<div>\n",
       "<style scoped>\n",
       "    .dataframe tbody tr th:only-of-type {\n",
       "        vertical-align: middle;\n",
       "    }\n",
       "\n",
       "    .dataframe tbody tr th {\n",
       "        vertical-align: top;\n",
       "    }\n",
       "\n",
       "    .dataframe thead th {\n",
       "        text-align: right;\n",
       "    }\n",
       "</style>\n",
       "<table border=\"1\" class=\"dataframe\">\n",
       "  <thead>\n",
       "    <tr style=\"text-align: right;\">\n",
       "      <th></th>\n",
       "      <th>Rating</th>\n",
       "    </tr>\n",
       "    <tr>\n",
       "      <th>Title</th>\n",
       "      <th></th>\n",
       "    </tr>\n",
       "  </thead>\n",
       "  <tbody>\n",
       "    <tr>\n",
       "      <th>$1,000,000 Duck (1971)</th>\n",
       "      <td>3.027027</td>\n",
       "    </tr>\n",
       "    <tr>\n",
       "      <th>'Night Mother (1986)</th>\n",
       "      <td>3.371429</td>\n",
       "    </tr>\n",
       "    <tr>\n",
       "      <th>'Til There Was You (1997)</th>\n",
       "      <td>2.692308</td>\n",
       "    </tr>\n",
       "    <tr>\n",
       "      <th>'burbs, The (1989)</th>\n",
       "      <td>2.910891</td>\n",
       "    </tr>\n",
       "    <tr>\n",
       "      <th>...And Justice for All (1979)</th>\n",
       "      <td>3.713568</td>\n",
       "    </tr>\n",
       "  </tbody>\n",
       "</table>\n",
       "</div>"
      ],
      "text/plain": [
       "                                 Rating\n",
       "Title                                  \n",
       "$1,000,000 Duck (1971)         3.027027\n",
       "'Night Mother (1986)           3.371429\n",
       "'Til There Was You (1997)      2.692308\n",
       "'burbs, The (1989)             2.910891\n",
       "...And Justice for All (1979)  3.713568"
      ]
     },
     "execution_count": 32,
     "metadata": {},
     "output_type": "execute_result"
    }
   ],
   "source": [
    "# top 25 movis rating mean\n",
    "Titalewise_mean = pd.DataFrame(master_Data.groupby('Title')['Rating'].mean())\n",
    "Titalewise_mean.head()"
   ]
  },
  {
   "cell_type": "code",
   "execution_count": 33,
   "id": "4a102437",
   "metadata": {},
   "outputs": [
    {
     "data": {
      "text/html": [
       "<div>\n",
       "<style scoped>\n",
       "    .dataframe tbody tr th:only-of-type {\n",
       "        vertical-align: middle;\n",
       "    }\n",
       "\n",
       "    .dataframe tbody tr th {\n",
       "        vertical-align: top;\n",
       "    }\n",
       "\n",
       "    .dataframe thead th {\n",
       "        text-align: right;\n",
       "    }\n",
       "</style>\n",
       "<table border=\"1\" class=\"dataframe\">\n",
       "  <thead>\n",
       "    <tr style=\"text-align: right;\">\n",
       "      <th></th>\n",
       "      <th>Rating</th>\n",
       "    </tr>\n",
       "    <tr>\n",
       "      <th>Title</th>\n",
       "      <th></th>\n",
       "    </tr>\n",
       "  </thead>\n",
       "  <tbody>\n",
       "    <tr>\n",
       "      <th>Ulysses (Ulisse) (1954)</th>\n",
       "      <td>5.000000</td>\n",
       "    </tr>\n",
       "    <tr>\n",
       "      <th>Lured (1947)</th>\n",
       "      <td>5.000000</td>\n",
       "    </tr>\n",
       "    <tr>\n",
       "      <th>Follow the Bitch (1998)</th>\n",
       "      <td>5.000000</td>\n",
       "    </tr>\n",
       "    <tr>\n",
       "      <th>Bittersweet Motel (2000)</th>\n",
       "      <td>5.000000</td>\n",
       "    </tr>\n",
       "    <tr>\n",
       "      <th>Song of Freedom (1936)</th>\n",
       "      <td>5.000000</td>\n",
       "    </tr>\n",
       "    <tr>\n",
       "      <th>One Little Indian (1973)</th>\n",
       "      <td>5.000000</td>\n",
       "    </tr>\n",
       "    <tr>\n",
       "      <th>Smashing Time (1967)</th>\n",
       "      <td>5.000000</td>\n",
       "    </tr>\n",
       "    <tr>\n",
       "      <th>Schlafes Bruder (Brother of Sleep) (1995)</th>\n",
       "      <td>5.000000</td>\n",
       "    </tr>\n",
       "    <tr>\n",
       "      <th>Gate of Heavenly Peace, The (1995)</th>\n",
       "      <td>5.000000</td>\n",
       "    </tr>\n",
       "    <tr>\n",
       "      <th>Baby, The (1973)</th>\n",
       "      <td>5.000000</td>\n",
       "    </tr>\n",
       "    <tr>\n",
       "      <th>I Am Cuba (Soy Cuba/Ya Kuba) (1964)</th>\n",
       "      <td>4.800000</td>\n",
       "    </tr>\n",
       "    <tr>\n",
       "      <th>Lamerica (1994)</th>\n",
       "      <td>4.750000</td>\n",
       "    </tr>\n",
       "    <tr>\n",
       "      <th>Apple, The (Sib) (1998)</th>\n",
       "      <td>4.666667</td>\n",
       "    </tr>\n",
       "    <tr>\n",
       "      <th>Sanjuro (1962)</th>\n",
       "      <td>4.608696</td>\n",
       "    </tr>\n",
       "    <tr>\n",
       "      <th>Seven Samurai (The Magnificent Seven) (Shichinin no samurai) (1954)</th>\n",
       "      <td>4.560510</td>\n",
       "    </tr>\n",
       "    <tr>\n",
       "      <th>Shawshank Redemption, The (1994)</th>\n",
       "      <td>4.554558</td>\n",
       "    </tr>\n",
       "    <tr>\n",
       "      <th>Godfather, The (1972)</th>\n",
       "      <td>4.524966</td>\n",
       "    </tr>\n",
       "    <tr>\n",
       "      <th>Close Shave, A (1995)</th>\n",
       "      <td>4.520548</td>\n",
       "    </tr>\n",
       "    <tr>\n",
       "      <th>Usual Suspects, The (1995)</th>\n",
       "      <td>4.517106</td>\n",
       "    </tr>\n",
       "    <tr>\n",
       "      <th>Schindler's List (1993)</th>\n",
       "      <td>4.510417</td>\n",
       "    </tr>\n",
       "    <tr>\n",
       "      <th>Wrong Trousers, The (1993)</th>\n",
       "      <td>4.507937</td>\n",
       "    </tr>\n",
       "    <tr>\n",
       "      <th>Dry Cleaning (Nettoyage à sec) (1997)</th>\n",
       "      <td>4.500000</td>\n",
       "    </tr>\n",
       "    <tr>\n",
       "      <th>Inheritors, The (Die Siebtelbauern) (1998)</th>\n",
       "      <td>4.500000</td>\n",
       "    </tr>\n",
       "    <tr>\n",
       "      <th>Mamma Roma (1962)</th>\n",
       "      <td>4.500000</td>\n",
       "    </tr>\n",
       "    <tr>\n",
       "      <th>Bells, The (1926)</th>\n",
       "      <td>4.500000</td>\n",
       "    </tr>\n",
       "  </tbody>\n",
       "</table>\n",
       "</div>"
      ],
      "text/plain": [
       "                                                      Rating\n",
       "Title                                                       \n",
       "Ulysses (Ulisse) (1954)                             5.000000\n",
       "Lured (1947)                                        5.000000\n",
       "Follow the Bitch (1998)                             5.000000\n",
       "Bittersweet Motel (2000)                            5.000000\n",
       "Song of Freedom (1936)                              5.000000\n",
       "One Little Indian (1973)                            5.000000\n",
       "Smashing Time (1967)                                5.000000\n",
       "Schlafes Bruder (Brother of Sleep) (1995)           5.000000\n",
       "Gate of Heavenly Peace, The (1995)                  5.000000\n",
       "Baby, The (1973)                                    5.000000\n",
       "I Am Cuba (Soy Cuba/Ya Kuba) (1964)                 4.800000\n",
       "Lamerica (1994)                                     4.750000\n",
       "Apple, The (Sib) (1998)                             4.666667\n",
       "Sanjuro (1962)                                      4.608696\n",
       "Seven Samurai (The Magnificent Seven) (Shichini...  4.560510\n",
       "Shawshank Redemption, The (1994)                    4.554558\n",
       "Godfather, The (1972)                               4.524966\n",
       "Close Shave, A (1995)                               4.520548\n",
       "Usual Suspects, The (1995)                          4.517106\n",
       "Schindler's List (1993)                             4.510417\n",
       "Wrong Trousers, The (1993)                          4.507937\n",
       "Dry Cleaning (Nettoyage à sec) (1997)               4.500000\n",
       "Inheritors, The (Die Siebtelbauern) (1998)          4.500000\n",
       "Mamma Roma (1962)                                   4.500000\n",
       "Bells, The (1926)                                   4.500000"
      ]
     },
     "execution_count": 33,
     "metadata": {},
     "output_type": "execute_result"
    }
   ],
   "source": [
    "Top_25 = Titalewise_mean.sort_values('Rating', ascending=False)\n",
    "Top_25.head(25)"
   ]
  },
  {
   "cell_type": "code",
   "execution_count": 80,
   "id": "6a0cdc12",
   "metadata": {},
   "outputs": [
    {
     "data": {
      "text/plain": [
       "(3706, 1)"
      ]
     },
     "execution_count": 80,
     "metadata": {},
     "output_type": "execute_result"
    }
   ],
   "source": [
    "Top_25.shape"
   ]
  },
  {
   "cell_type": "code",
   "execution_count": 86,
   "id": "e33b520c",
   "metadata": {},
   "outputs": [
    {
     "data": {
      "text/html": [
       "<div>\n",
       "<style scoped>\n",
       "    .dataframe tbody tr th:only-of-type {\n",
       "        vertical-align: middle;\n",
       "    }\n",
       "\n",
       "    .dataframe tbody tr th {\n",
       "        vertical-align: top;\n",
       "    }\n",
       "\n",
       "    .dataframe thead th {\n",
       "        text-align: right;\n",
       "    }\n",
       "</style>\n",
       "<table border=\"1\" class=\"dataframe\">\n",
       "  <thead>\n",
       "    <tr style=\"text-align: right;\">\n",
       "      <th>Rating</th>\n",
       "      <th>1</th>\n",
       "      <th>2</th>\n",
       "      <th>3</th>\n",
       "      <th>4</th>\n",
       "      <th>5</th>\n",
       "    </tr>\n",
       "    <tr>\n",
       "      <th>Title</th>\n",
       "      <th></th>\n",
       "      <th></th>\n",
       "      <th></th>\n",
       "      <th></th>\n",
       "      <th></th>\n",
       "    </tr>\n",
       "  </thead>\n",
       "  <tbody>\n",
       "    <tr>\n",
       "      <th>$1,000,000 Duck (1971)</th>\n",
       "      <td>3</td>\n",
       "      <td>8</td>\n",
       "      <td>15</td>\n",
       "      <td>7</td>\n",
       "      <td>4</td>\n",
       "    </tr>\n",
       "    <tr>\n",
       "      <th>'Night Mother (1986)</th>\n",
       "      <td>4</td>\n",
       "      <td>10</td>\n",
       "      <td>25</td>\n",
       "      <td>18</td>\n",
       "      <td>13</td>\n",
       "    </tr>\n",
       "    <tr>\n",
       "      <th>'Til There Was You (1997)</th>\n",
       "      <td>5</td>\n",
       "      <td>20</td>\n",
       "      <td>15</td>\n",
       "      <td>10</td>\n",
       "      <td>2</td>\n",
       "    </tr>\n",
       "    <tr>\n",
       "      <th>'burbs, The (1989)</th>\n",
       "      <td>36</td>\n",
       "      <td>69</td>\n",
       "      <td>107</td>\n",
       "      <td>68</td>\n",
       "      <td>23</td>\n",
       "    </tr>\n",
       "    <tr>\n",
       "      <th>...And Justice for All (1979)</th>\n",
       "      <td>2</td>\n",
       "      <td>12</td>\n",
       "      <td>65</td>\n",
       "      <td>82</td>\n",
       "      <td>38</td>\n",
       "    </tr>\n",
       "    <tr>\n",
       "      <th>...</th>\n",
       "      <td>...</td>\n",
       "      <td>...</td>\n",
       "      <td>...</td>\n",
       "      <td>...</td>\n",
       "      <td>...</td>\n",
       "    </tr>\n",
       "    <tr>\n",
       "      <th>Zed &amp; Two Noughts, A (1985)</th>\n",
       "      <td>2</td>\n",
       "      <td>3</td>\n",
       "      <td>8</td>\n",
       "      <td>13</td>\n",
       "      <td>3</td>\n",
       "    </tr>\n",
       "    <tr>\n",
       "      <th>Zero Effect (1998)</th>\n",
       "      <td>7</td>\n",
       "      <td>32</td>\n",
       "      <td>72</td>\n",
       "      <td>108</td>\n",
       "      <td>82</td>\n",
       "    </tr>\n",
       "    <tr>\n",
       "      <th>Zero Kelvin (Kjærlighetens kjøtere) (1995)</th>\n",
       "      <td>0</td>\n",
       "      <td>0</td>\n",
       "      <td>1</td>\n",
       "      <td>1</td>\n",
       "      <td>0</td>\n",
       "    </tr>\n",
       "    <tr>\n",
       "      <th>Zeus and Roxanne (1997)</th>\n",
       "      <td>5</td>\n",
       "      <td>6</td>\n",
       "      <td>8</td>\n",
       "      <td>3</td>\n",
       "      <td>1</td>\n",
       "    </tr>\n",
       "    <tr>\n",
       "      <th>eXistenZ (1999)</th>\n",
       "      <td>43</td>\n",
       "      <td>61</td>\n",
       "      <td>109</td>\n",
       "      <td>142</td>\n",
       "      <td>55</td>\n",
       "    </tr>\n",
       "  </tbody>\n",
       "</table>\n",
       "<p>3706 rows × 5 columns</p>\n",
       "</div>"
      ],
      "text/plain": [
       "Rating                                       1   2    3    4   5\n",
       "Title                                                           \n",
       "$1,000,000 Duck (1971)                       3   8   15    7   4\n",
       "'Night Mother (1986)                         4  10   25   18  13\n",
       "'Til There Was You (1997)                    5  20   15   10   2\n",
       "'burbs, The (1989)                          36  69  107   68  23\n",
       "...And Justice for All (1979)                2  12   65   82  38\n",
       "...                                         ..  ..  ...  ...  ..\n",
       "Zed & Two Noughts, A (1985)                  2   3    8   13   3\n",
       "Zero Effect (1998)                           7  32   72  108  82\n",
       "Zero Kelvin (Kjærlighetens kjøtere) (1995)   0   0    1    1   0\n",
       "Zeus and Roxanne (1997)                      5   6    8    3   1\n",
       "eXistenZ (1999)                             43  61  109  142  55\n",
       "\n",
       "[3706 rows x 5 columns]"
      ]
     },
     "execution_count": 86,
     "metadata": {},
     "output_type": "execute_result"
    }
   ],
   "source": [
    "Top_25_crosstab= pd.crosstab(index=master_Data['Title'],columns=master_Data['Rating'])\n",
    "Top_25_crosstab"
   ]
  },
  {
   "cell_type": "code",
   "execution_count": 93,
   "id": "c96a4c76",
   "metadata": {},
   "outputs": [
    {
     "data": {
      "text/html": [
       "<div>\n",
       "<style scoped>\n",
       "    .dataframe tbody tr th:only-of-type {\n",
       "        vertical-align: middle;\n",
       "    }\n",
       "\n",
       "    .dataframe tbody tr th {\n",
       "        vertical-align: top;\n",
       "    }\n",
       "\n",
       "    .dataframe thead th {\n",
       "        text-align: right;\n",
       "    }\n",
       "</style>\n",
       "<table border=\"1\" class=\"dataframe\">\n",
       "  <thead>\n",
       "    <tr style=\"text-align: right;\">\n",
       "      <th></th>\n",
       "      <th>Title</th>\n",
       "      <th>counts</th>\n",
       "    </tr>\n",
       "  </thead>\n",
       "  <tbody>\n",
       "    <tr>\n",
       "      <th>0</th>\n",
       "      <td>American Beauty (1999)</td>\n",
       "      <td>3428</td>\n",
       "    </tr>\n",
       "    <tr>\n",
       "      <th>1</th>\n",
       "      <td>Star Wars: Episode IV - A New Hope (1977)</td>\n",
       "      <td>2991</td>\n",
       "    </tr>\n",
       "    <tr>\n",
       "      <th>2</th>\n",
       "      <td>Star Wars: Episode V - The Empire Strikes Back...</td>\n",
       "      <td>2990</td>\n",
       "    </tr>\n",
       "    <tr>\n",
       "      <th>3</th>\n",
       "      <td>Star Wars: Episode VI - Return of the Jedi (1983)</td>\n",
       "      <td>2883</td>\n",
       "    </tr>\n",
       "    <tr>\n",
       "      <th>4</th>\n",
       "      <td>Jurassic Park (1993)</td>\n",
       "      <td>2672</td>\n",
       "    </tr>\n",
       "    <tr>\n",
       "      <th>...</th>\n",
       "      <td>...</td>\n",
       "      <td>...</td>\n",
       "    </tr>\n",
       "    <tr>\n",
       "      <th>3701</th>\n",
       "      <td>Target (1995)</td>\n",
       "      <td>1</td>\n",
       "    </tr>\n",
       "    <tr>\n",
       "      <th>3702</th>\n",
       "      <td>I Don't Want to Talk About It (De eso no se ha...</td>\n",
       "      <td>1</td>\n",
       "    </tr>\n",
       "    <tr>\n",
       "      <th>3703</th>\n",
       "      <td>An Unforgettable Summer (1994)</td>\n",
       "      <td>1</td>\n",
       "    </tr>\n",
       "    <tr>\n",
       "      <th>3704</th>\n",
       "      <td>Never Met Picasso (1996)</td>\n",
       "      <td>1</td>\n",
       "    </tr>\n",
       "    <tr>\n",
       "      <th>3705</th>\n",
       "      <td>Full Speed (1996)</td>\n",
       "      <td>1</td>\n",
       "    </tr>\n",
       "  </tbody>\n",
       "</table>\n",
       "<p>3706 rows × 2 columns</p>\n",
       "</div>"
      ],
      "text/plain": [
       "                                                  Title  counts\n",
       "0                                American Beauty (1999)    3428\n",
       "1             Star Wars: Episode IV - A New Hope (1977)    2991\n",
       "2     Star Wars: Episode V - The Empire Strikes Back...    2990\n",
       "3     Star Wars: Episode VI - Return of the Jedi (1983)    2883\n",
       "4                                  Jurassic Park (1993)    2672\n",
       "...                                                 ...     ...\n",
       "3701                                      Target (1995)       1\n",
       "3702  I Don't Want to Talk About It (De eso no se ha...       1\n",
       "3703                     An Unforgettable Summer (1994)       1\n",
       "3704                           Never Met Picasso (1996)       1\n",
       "3705                                  Full Speed (1996)       1\n",
       "\n",
       "[3706 rows x 2 columns]"
      ]
     },
     "execution_count": 93,
     "metadata": {},
     "output_type": "execute_result"
    }
   ],
   "source": [
    "Top_25_ratting_count = master_Data.value_counts('Title').reset_index(name='counts') \n",
    "Top_25_ratting_count"
   ]
  },
  {
   "cell_type": "code",
   "execution_count": 95,
   "id": "af9d60b8",
   "metadata": {},
   "outputs": [
    {
     "data": {
      "text/html": [
       "<div>\n",
       "<style scoped>\n",
       "    .dataframe tbody tr th:only-of-type {\n",
       "        vertical-align: middle;\n",
       "    }\n",
       "\n",
       "    .dataframe tbody tr th {\n",
       "        vertical-align: top;\n",
       "    }\n",
       "\n",
       "    .dataframe thead th {\n",
       "        text-align: right;\n",
       "    }\n",
       "</style>\n",
       "<table border=\"1\" class=\"dataframe\">\n",
       "  <thead>\n",
       "    <tr style=\"text-align: right;\">\n",
       "      <th></th>\n",
       "      <th>Title</th>\n",
       "      <th>1</th>\n",
       "      <th>2</th>\n",
       "      <th>3</th>\n",
       "      <th>4</th>\n",
       "      <th>5</th>\n",
       "      <th>counts</th>\n",
       "    </tr>\n",
       "  </thead>\n",
       "  <tbody>\n",
       "    <tr>\n",
       "      <th>0</th>\n",
       "      <td>American Beauty (1999)</td>\n",
       "      <td>83</td>\n",
       "      <td>134</td>\n",
       "      <td>358</td>\n",
       "      <td>890</td>\n",
       "      <td>1963</td>\n",
       "      <td>3428</td>\n",
       "    </tr>\n",
       "    <tr>\n",
       "      <th>1</th>\n",
       "      <td>Star Wars: Episode IV - A New Hope (1977)</td>\n",
       "      <td>19</td>\n",
       "      <td>62</td>\n",
       "      <td>288</td>\n",
       "      <td>796</td>\n",
       "      <td>1826</td>\n",
       "      <td>2991</td>\n",
       "    </tr>\n",
       "    <tr>\n",
       "      <th>2</th>\n",
       "      <td>Star Wars: Episode V - The Empire Strikes Back...</td>\n",
       "      <td>22</td>\n",
       "      <td>83</td>\n",
       "      <td>375</td>\n",
       "      <td>1027</td>\n",
       "      <td>1483</td>\n",
       "      <td>2990</td>\n",
       "    </tr>\n",
       "    <tr>\n",
       "      <th>3</th>\n",
       "      <td>Star Wars: Episode VI - Return of the Jedi (1983)</td>\n",
       "      <td>39</td>\n",
       "      <td>128</td>\n",
       "      <td>589</td>\n",
       "      <td>1099</td>\n",
       "      <td>1028</td>\n",
       "      <td>2883</td>\n",
       "    </tr>\n",
       "    <tr>\n",
       "      <th>4</th>\n",
       "      <td>Jurassic Park (1993)</td>\n",
       "      <td>62</td>\n",
       "      <td>197</td>\n",
       "      <td>683</td>\n",
       "      <td>1098</td>\n",
       "      <td>632</td>\n",
       "      <td>2672</td>\n",
       "    </tr>\n",
       "    <tr>\n",
       "      <th>5</th>\n",
       "      <td>Saving Private Ryan (1998)</td>\n",
       "      <td>25</td>\n",
       "      <td>67</td>\n",
       "      <td>301</td>\n",
       "      <td>855</td>\n",
       "      <td>1405</td>\n",
       "      <td>2653</td>\n",
       "    </tr>\n",
       "    <tr>\n",
       "      <th>6</th>\n",
       "      <td>Terminator 2: Judgment Day (1991)</td>\n",
       "      <td>42</td>\n",
       "      <td>98</td>\n",
       "      <td>465</td>\n",
       "      <td>1102</td>\n",
       "      <td>942</td>\n",
       "      <td>2649</td>\n",
       "    </tr>\n",
       "    <tr>\n",
       "      <th>7</th>\n",
       "      <td>Matrix, The (1999)</td>\n",
       "      <td>37</td>\n",
       "      <td>119</td>\n",
       "      <td>263</td>\n",
       "      <td>741</td>\n",
       "      <td>1430</td>\n",
       "      <td>2590</td>\n",
       "    </tr>\n",
       "    <tr>\n",
       "      <th>8</th>\n",
       "      <td>Back to the Future (1985)</td>\n",
       "      <td>20</td>\n",
       "      <td>103</td>\n",
       "      <td>550</td>\n",
       "      <td>1119</td>\n",
       "      <td>791</td>\n",
       "      <td>2583</td>\n",
       "    </tr>\n",
       "    <tr>\n",
       "      <th>9</th>\n",
       "      <td>Silence of the Lambs, The (1991)</td>\n",
       "      <td>37</td>\n",
       "      <td>43</td>\n",
       "      <td>246</td>\n",
       "      <td>902</td>\n",
       "      <td>1350</td>\n",
       "      <td>2578</td>\n",
       "    </tr>\n",
       "    <tr>\n",
       "      <th>10</th>\n",
       "      <td>Men in Black (1997)</td>\n",
       "      <td>47</td>\n",
       "      <td>194</td>\n",
       "      <td>653</td>\n",
       "      <td>1122</td>\n",
       "      <td>522</td>\n",
       "      <td>2538</td>\n",
       "    </tr>\n",
       "    <tr>\n",
       "      <th>11</th>\n",
       "      <td>Raiders of the Lost Ark (1981)</td>\n",
       "      <td>4</td>\n",
       "      <td>37</td>\n",
       "      <td>213</td>\n",
       "      <td>760</td>\n",
       "      <td>1500</td>\n",
       "      <td>2514</td>\n",
       "    </tr>\n",
       "    <tr>\n",
       "      <th>12</th>\n",
       "      <td>Fargo (1996)</td>\n",
       "      <td>57</td>\n",
       "      <td>85</td>\n",
       "      <td>297</td>\n",
       "      <td>796</td>\n",
       "      <td>1278</td>\n",
       "      <td>2513</td>\n",
       "    </tr>\n",
       "    <tr>\n",
       "      <th>13</th>\n",
       "      <td>Sixth Sense, The (1999)</td>\n",
       "      <td>16</td>\n",
       "      <td>58</td>\n",
       "      <td>222</td>\n",
       "      <td>778</td>\n",
       "      <td>1385</td>\n",
       "      <td>2459</td>\n",
       "    </tr>\n",
       "    <tr>\n",
       "      <th>14</th>\n",
       "      <td>Braveheart (1995)</td>\n",
       "      <td>37</td>\n",
       "      <td>92</td>\n",
       "      <td>337</td>\n",
       "      <td>771</td>\n",
       "      <td>1206</td>\n",
       "      <td>2443</td>\n",
       "    </tr>\n",
       "    <tr>\n",
       "      <th>15</th>\n",
       "      <td>Shakespeare in Love (1998)</td>\n",
       "      <td>37</td>\n",
       "      <td>119</td>\n",
       "      <td>336</td>\n",
       "      <td>890</td>\n",
       "      <td>987</td>\n",
       "      <td>2369</td>\n",
       "    </tr>\n",
       "    <tr>\n",
       "      <th>16</th>\n",
       "      <td>Princess Bride, The (1987)</td>\n",
       "      <td>22</td>\n",
       "      <td>44</td>\n",
       "      <td>328</td>\n",
       "      <td>738</td>\n",
       "      <td>1186</td>\n",
       "      <td>2318</td>\n",
       "    </tr>\n",
       "    <tr>\n",
       "      <th>17</th>\n",
       "      <td>Schindler's List (1993)</td>\n",
       "      <td>19</td>\n",
       "      <td>28</td>\n",
       "      <td>186</td>\n",
       "      <td>596</td>\n",
       "      <td>1475</td>\n",
       "      <td>2304</td>\n",
       "    </tr>\n",
       "    <tr>\n",
       "      <th>18</th>\n",
       "      <td>L.A. Confidential (1997)</td>\n",
       "      <td>17</td>\n",
       "      <td>61</td>\n",
       "      <td>334</td>\n",
       "      <td>867</td>\n",
       "      <td>1009</td>\n",
       "      <td>2288</td>\n",
       "    </tr>\n",
       "    <tr>\n",
       "      <th>19</th>\n",
       "      <td>Groundhog Day (1993)</td>\n",
       "      <td>36</td>\n",
       "      <td>121</td>\n",
       "      <td>460</td>\n",
       "      <td>958</td>\n",
       "      <td>703</td>\n",
       "      <td>2278</td>\n",
       "    </tr>\n",
       "    <tr>\n",
       "      <th>20</th>\n",
       "      <td>E.T. the Extra-Terrestrial (1982)</td>\n",
       "      <td>33</td>\n",
       "      <td>134</td>\n",
       "      <td>459</td>\n",
       "      <td>896</td>\n",
       "      <td>747</td>\n",
       "      <td>2269</td>\n",
       "    </tr>\n",
       "    <tr>\n",
       "      <th>21</th>\n",
       "      <td>Star Wars: Episode I - The Phantom Menace (1999)</td>\n",
       "      <td>143</td>\n",
       "      <td>324</td>\n",
       "      <td>651</td>\n",
       "      <td>732</td>\n",
       "      <td>400</td>\n",
       "      <td>2250</td>\n",
       "    </tr>\n",
       "    <tr>\n",
       "      <th>22</th>\n",
       "      <td>Being John Malkovich (1999)</td>\n",
       "      <td>69</td>\n",
       "      <td>106</td>\n",
       "      <td>307</td>\n",
       "      <td>752</td>\n",
       "      <td>1007</td>\n",
       "      <td>2241</td>\n",
       "    </tr>\n",
       "    <tr>\n",
       "      <th>23</th>\n",
       "      <td>Shawshank Redemption, The (1994)</td>\n",
       "      <td>8</td>\n",
       "      <td>25</td>\n",
       "      <td>148</td>\n",
       "      <td>589</td>\n",
       "      <td>1457</td>\n",
       "      <td>2227</td>\n",
       "    </tr>\n",
       "    <tr>\n",
       "      <th>24</th>\n",
       "      <td>Godfather, The (1972)</td>\n",
       "      <td>18</td>\n",
       "      <td>38</td>\n",
       "      <td>178</td>\n",
       "      <td>514</td>\n",
       "      <td>1475</td>\n",
       "      <td>2223</td>\n",
       "    </tr>\n",
       "  </tbody>\n",
       "</table>\n",
       "</div>"
      ],
      "text/plain": [
       "                                                Title    1    2    3     4  \\\n",
       "0                              American Beauty (1999)   83  134  358   890   \n",
       "1           Star Wars: Episode IV - A New Hope (1977)   19   62  288   796   \n",
       "2   Star Wars: Episode V - The Empire Strikes Back...   22   83  375  1027   \n",
       "3   Star Wars: Episode VI - Return of the Jedi (1983)   39  128  589  1099   \n",
       "4                                Jurassic Park (1993)   62  197  683  1098   \n",
       "5                          Saving Private Ryan (1998)   25   67  301   855   \n",
       "6                   Terminator 2: Judgment Day (1991)   42   98  465  1102   \n",
       "7                                  Matrix, The (1999)   37  119  263   741   \n",
       "8                           Back to the Future (1985)   20  103  550  1119   \n",
       "9                    Silence of the Lambs, The (1991)   37   43  246   902   \n",
       "10                                Men in Black (1997)   47  194  653  1122   \n",
       "11                     Raiders of the Lost Ark (1981)    4   37  213   760   \n",
       "12                                       Fargo (1996)   57   85  297   796   \n",
       "13                            Sixth Sense, The (1999)   16   58  222   778   \n",
       "14                                  Braveheart (1995)   37   92  337   771   \n",
       "15                         Shakespeare in Love (1998)   37  119  336   890   \n",
       "16                         Princess Bride, The (1987)   22   44  328   738   \n",
       "17                            Schindler's List (1993)   19   28  186   596   \n",
       "18                           L.A. Confidential (1997)   17   61  334   867   \n",
       "19                               Groundhog Day (1993)   36  121  460   958   \n",
       "20                  E.T. the Extra-Terrestrial (1982)   33  134  459   896   \n",
       "21   Star Wars: Episode I - The Phantom Menace (1999)  143  324  651   732   \n",
       "22                        Being John Malkovich (1999)   69  106  307   752   \n",
       "23                   Shawshank Redemption, The (1994)    8   25  148   589   \n",
       "24                              Godfather, The (1972)   18   38  178   514   \n",
       "\n",
       "       5  counts  \n",
       "0   1963    3428  \n",
       "1   1826    2991  \n",
       "2   1483    2990  \n",
       "3   1028    2883  \n",
       "4    632    2672  \n",
       "5   1405    2653  \n",
       "6    942    2649  \n",
       "7   1430    2590  \n",
       "8    791    2583  \n",
       "9   1350    2578  \n",
       "10   522    2538  \n",
       "11  1500    2514  \n",
       "12  1278    2513  \n",
       "13  1385    2459  \n",
       "14  1206    2443  \n",
       "15   987    2369  \n",
       "16  1186    2318  \n",
       "17  1475    2304  \n",
       "18  1009    2288  \n",
       "19   703    2278  \n",
       "20   747    2269  \n",
       "21   400    2250  \n",
       "22  1007    2241  \n",
       "23  1457    2227  \n",
       "24  1475    2223  "
      ]
     },
     "execution_count": 95,
     "metadata": {},
     "output_type": "execute_result"
    }
   ],
   "source": [
    "#merge top 25 movi coloum with Stacked datafram\n",
    "top_25_Movi_rating_cross = pd.merge(Top_25_crosstab, Top_25_ratting_count, how=\"right\", on=[\"Title\"])[:25]\n",
    "top_25_Movi_rating_cross"
   ]
  },
  {
   "cell_type": "code",
   "execution_count": 107,
   "id": "3ca83677",
   "metadata": {},
   "outputs": [
    {
     "data": {
      "image/png": "[encoded data removed]",
      "text/plain": [
       "<Figure size 720x576 with 1 Axes>"
      ]
     },
     "metadata": {
      "needs_background": "light"
     },
     "output_type": "display_data"
    }
   ],
   "source": [
    "#Stacked barplot for ratings and top 25 movis\n",
    "top_25_Movi_rating_cross.drop(['counts'], axis=1).plot(x=\"Title\" ,kind=\"bar\", figsize=(10,8), stacked=True, colormap = 'Paired')\n",
    "plt.xlabel('Top 25 Movis')\n",
    "plt.ylabel('Rating Count')\n",
    "plt.title(\"Rating of of top 25 Movis\")\n",
    "plt.show()"
   ]
  },
  {
   "cell_type": "code",
   "execution_count": 68,
   "id": "c120d6f2",
   "metadata": {},
   "outputs": [
    {
     "data": {
      "text/plain": [
       "Title\n",
       "American Beauty (1999)                                   3428\n",
       "Star Wars: Episode IV - A New Hope (1977)                2991\n",
       "Star Wars: Episode V - The Empire Strikes Back (1980)    2990\n",
       "Star Wars: Episode VI - Return of the Jedi (1983)        2883\n",
       "Jurassic Park (1993)                                     2672\n",
       "Saving Private Ryan (1998)                               2653\n",
       "Terminator 2: Judgment Day (1991)                        2649\n",
       "Matrix, The (1999)                                       2590\n",
       "Back to the Future (1985)                                2583\n",
       "Silence of the Lambs, The (1991)                         2578\n",
       "Men in Black (1997)                                      2538\n",
       "Raiders of the Lost Ark (1981)                           2514\n",
       "Fargo (1996)                                             2513\n",
       "Sixth Sense, The (1999)                                  2459\n",
       "Braveheart (1995)                                        2443\n",
       "Shakespeare in Love (1998)                               2369\n",
       "Princess Bride, The (1987)                               2318\n",
       "Schindler's List (1993)                                  2304\n",
       "L.A. Confidential (1997)                                 2288\n",
       "Groundhog Day (1993)                                     2278\n",
       "E.T. the Extra-Terrestrial (1982)                        2269\n",
       "Star Wars: Episode I - The Phantom Menace (1999)         2250\n",
       "Being John Malkovich (1999)                              2241\n",
       "Shawshank Redemption, The (1994)                         2227\n",
       "Godfather, The (1972)                                    2223\n",
       "dtype: int64"
      ]
     },
     "execution_count": 68,
     "metadata": {},
     "output_type": "execute_result"
    }
   ],
   "source": [
    "top_25_Movi_data = master_Data.groupby('Title').size().sort_values(ascending=False)[:25]\n",
    "top_25_Movi_data"
   ]
  },
  {
   "cell_type": "code",
   "execution_count": 69,
   "id": "6d3ad2e4",
   "metadata": {},
   "outputs": [
    {
     "data": {
      "text/plain": [
       "(25,)"
      ]
     },
     "execution_count": 69,
     "metadata": {},
     "output_type": "execute_result"
    }
   ],
   "source": [
    "top_25_Movi_data.shape"
   ]
  },
  {
   "cell_type": "code",
   "execution_count": 38,
   "id": "c88a0acb",
   "metadata": {},
   "outputs": [
    {
     "data": {
      "image/png": "[encoded data removed]",
      "text/plain": [
       "<Figure size 720x576 with 1 Axes>"
      ]
     },
     "metadata": {
      "needs_background": "light"
     },
     "output_type": "display_data"
    }
   ],
   "source": [
    "top_25_Movi_data.plot(kind='bar',color='g', alpha = 0.8,figsize=(10,8))\n",
    "plt.xlabel(\"Top 25 Movies\")\n",
    "plt.ylabel(\"Rating Count\")\n",
    "plt.title(\"Top 25 Movies by rating\")\n",
    "plt.show()"
   ]
  },
  {
   "cell_type": "markdown",
   "id": "e44aa523",
   "metadata": {},
   "source": [
    "## 4. Find the ratings for all the movies reviewed by for a particular user of user id = 2696"
   ]
  },
  {
   "cell_type": "code",
   "execution_count": 39,
   "id": "76fca3c6",
   "metadata": {},
   "outputs": [
    {
     "name": "stdout",
     "output_type": "stream",
     "text": [
      "<class 'pandas.core.frame.DataFrame'>\n",
      "Int64Index: 20 entries, 991035 to 991054\n",
      "Data columns (total 7 columns):\n",
      " #   Column      Non-Null Count  Dtype \n",
      "---  ------      --------------  ----- \n",
      " 0   MovieID     20 non-null     int32 \n",
      " 1   Title       20 non-null     object\n",
      " 2   UserID      20 non-null     int32 \n",
      " 3   Age         20 non-null     int32 \n",
      " 4   Gender      20 non-null     object\n",
      " 5   Occupation  20 non-null     int32 \n",
      " 6   Rating      20 non-null     int32 \n",
      "dtypes: int32(5), object(2)\n",
      "memory usage: 880.0+ bytes\n"
     ]
    }
   ],
   "source": [
    "data_of_2696 = master_Data[master_Data['UserID']==2696]\n",
    "data_of_2696.info()"
   ]
  },
  {
   "cell_type": "code",
   "execution_count": 42,
   "id": "4515e782",
   "metadata": {},
   "outputs": [
    {
     "name": "stdout",
     "output_type": "stream",
     "text": [
      "        MovieID                                           Title  UserID  Age  \\\n",
      "991035      350                              Client, The (1994)    2696   25   \n",
      "991036      800                                Lone Star (1996)    2696   25   \n",
      "991037     1092                           Basic Instinct (1992)    2696   25   \n",
      "991038     1097               E.T. the Extra-Terrestrial (1982)    2696   25   \n",
      "991039     1258                             Shining, The (1980)    2696   25   \n",
      "991040     1270                       Back to the Future (1985)    2696   25   \n",
      "991041     1589                                 Cop Land (1997)    2696   25   \n",
      "991042     1617                        L.A. Confidential (1997)    2696   25   \n",
      "991043     1625                                Game, The (1997)    2696   25   \n",
      "991044     1644          I Know What You Did Last Summer (1997)    2696   25   \n",
      "991045     1645                    Devil's Advocate, The (1997)    2696   25   \n",
      "991046     1711  Midnight in the Garden of Good and Evil (1997)    2696   25   \n",
      "991047     1783                                 Palmetto (1998)    2696   25   \n",
      "991048     1805                              Wild Things (1998)    2696   25   \n",
      "991049     1892                        Perfect Murder, A (1998)    2696   25   \n",
      "991050     2338    I Still Know What You Did Last Summer (1998)    2696   25   \n",
      "991051     2389                                   Psycho (1998)    2696   25   \n",
      "991052     2713                              Lake Placid (1999)    2696   25   \n",
      "991053     3176                 Talented Mr. Ripley, The (1999)    2696   25   \n",
      "991054     3386                                      JFK (1991)    2696   25   \n",
      "\n",
      "       Gender  Occupation  Rating  \n",
      "991035      M           7       3  \n",
      "991036      M           7       5  \n",
      "991037      M           7       4  \n",
      "991038      M           7       3  \n",
      "991039      M           7       4  \n",
      "991040      M           7       2  \n",
      "991041      M           7       3  \n",
      "991042      M           7       4  \n",
      "991043      M           7       4  \n",
      "991044      M           7       2  \n",
      "991045      M           7       4  \n",
      "991046      M           7       4  \n",
      "991047      M           7       4  \n",
      "991048      M           7       4  \n",
      "991049      M           7       4  \n",
      "991050      M           7       2  \n",
      "991051      M           7       4  \n",
      "991052      M           7       1  \n",
      "991053      M           7       4  \n",
      "991054      M           7       1  \n"
     ]
    }
   ],
   "source": [
    "print (data_of_2696)"
   ]
  },
  {
   "cell_type": "code",
   "execution_count": 113,
   "id": "c728bcb5",
   "metadata": {},
   "outputs": [
    {
     "data": {
      "text/plain": [
       "<AxesSubplot:title={'center':'Ratings by userID = 2696 '}, xlabel='Title'>"
      ]
     },
     "execution_count": 113,
     "metadata": {},
     "output_type": "execute_result"
    },
    {
     "data": {
      "image/png": "[encoded data removed]",
      "text/plain": [
       "<Figure size 1080x720 with 1 Axes>"
      ]
     },
     "metadata": {
      "needs_background": "light"
     },
     "output_type": "display_data"
    }
   ],
   "source": [
    "data_of_2696.plot(x=\"Title\",y=\"Rating\",kind=\"bar\", color='r', alpha=0.5, figsize=(15,10),title = 'Ratings by userID = 2696 ')"
   ]
  },
  {
   "cell_type": "markdown",
   "id": "50f76376",
   "metadata": {},
   "source": [
    "# Feature Engineering: Use column genres"
   ]
  },
  {
   "cell_type": "markdown",
   "id": "791e12c4",
   "metadata": {},
   "source": [
    "## 1. Find out all the unique genres (Hint: split the data in column genre making a list and then process the data to find out only the unique categories of genres)"
   ]
  },
  {
   "cell_type": "code",
   "execution_count": 116,
   "id": "ffd1f475",
   "metadata": {},
   "outputs": [
    {
     "name": "stdout",
     "output_type": "stream",
     "text": [
      "         Action  Adventure  Animation  Children's  Comedy  Crime  Documentary  \\\n",
      "0             0          0          1           1       1      0            0   \n",
      "1             0          0          1           1       0      0            0   \n",
      "2             0          0          0           0       0      0            0   \n",
      "3             1          1          0           0       0      0            0   \n",
      "4             0          0          0           0       0      0            0   \n",
      "...         ...        ...        ...         ...     ...    ...          ...   \n",
      "1000204       0          0          0           0       0      0            0   \n",
      "1000205       0          0          0           0       1      0            0   \n",
      "1000206       0          0          0           0       1      0            0   \n",
      "1000207       1          0          0           0       0      0            0   \n",
      "1000208       1          0          0           0       0      0            0   \n",
      "\n",
      "         Drama  Fantasy  Film-Noir  Horror  Musical  Mystery  Romance  Sci-Fi  \\\n",
      "0            0        0          0       0        0        0        0       0   \n",
      "1            0        0          0       0        1        0        1       0   \n",
      "2            1        0          0       0        0        0        0       0   \n",
      "3            0        1          0       0        0        0        0       1   \n",
      "4            1        0          0       0        0        0        0       0   \n",
      "...        ...      ...        ...     ...      ...      ...      ...     ...   \n",
      "1000204      1        0          0       0        0        0        0       0   \n",
      "1000205      0        0          0       1        0        0        0       0   \n",
      "1000206      0        0          0       0        0        0        1       0   \n",
      "1000207      0        0          0       0        0        0        0       0   \n",
      "1000208      1        0          0       0        0        0        0       0   \n",
      "\n",
      "         Thriller  War  Western  \n",
      "0               0    0        0  \n",
      "1               0    0        0  \n",
      "2               0    0        0  \n",
      "3               0    0        0  \n",
      "4               0    1        0  \n",
      "...           ...  ...      ...  \n",
      "1000204         1    0        0  \n",
      "1000205         1    0        0  \n",
      "1000206         0    0        0  \n",
      "1000207         1    0        0  \n",
      "1000208         0    0        0  \n",
      "\n",
      "[1000209 rows x 18 columns]\n"
     ]
    }
   ],
   "source": [
    "Genres_data = all_Three_Data['Genres'].str.get_dummies('|')\n",
    "print(Genres_data)"
   ]
  },
  {
   "cell_type": "code",
   "execution_count": 117,
   "id": "145596d5",
   "metadata": {},
   "outputs": [
    {
     "data": {
      "text/plain": [
       "Index(['Action', 'Adventure', 'Animation', 'Children's', 'Comedy', 'Crime',\n",
       "       'Documentary', 'Drama', 'Fantasy', 'Film-Noir', 'Horror', 'Musical',\n",
       "       'Mystery', 'Romance', 'Sci-Fi', 'Thriller', 'War', 'Western'],\n",
       "      dtype='object')"
      ]
     },
     "execution_count": 117,
     "metadata": {},
     "output_type": "execute_result"
    }
   ],
   "source": [
    "Genres_data.columns"
   ]
  },
  {
   "cell_type": "markdown",
   "id": "8dfb2a6d",
   "metadata": {},
   "source": [
    "**Comments:-** There are 18 unique genres are available in datasets."
   ]
  },
  {
   "cell_type": "markdown",
   "id": "4de42a39",
   "metadata": {},
   "source": [
    "## 2. Create a separate column for each genre category with a one-hot encoding ( 1 and 0) whether or not the movie belongs to that genre"
   ]
  },
  {
   "cell_type": "code",
   "execution_count": 119,
   "id": "563c9b50",
   "metadata": {},
   "outputs": [
    {
     "data": {
      "text/html": [
       "<div>\n",
       "<style scoped>\n",
       "    .dataframe tbody tr th:only-of-type {\n",
       "        vertical-align: middle;\n",
       "    }\n",
       "\n",
       "    .dataframe tbody tr th {\n",
       "        vertical-align: top;\n",
       "    }\n",
       "\n",
       "    .dataframe thead th {\n",
       "        text-align: right;\n",
       "    }\n",
       "</style>\n",
       "<table border=\"1\" class=\"dataframe\">\n",
       "  <thead>\n",
       "    <tr style=\"text-align: right;\">\n",
       "      <th></th>\n",
       "      <th>MovieID</th>\n",
       "      <th>Title</th>\n",
       "      <th>UserID</th>\n",
       "      <th>Rating</th>\n",
       "      <th>Timestamp</th>\n",
       "      <th>Gender</th>\n",
       "      <th>Age</th>\n",
       "      <th>Occupation</th>\n",
       "      <th>Zip_Code</th>\n",
       "      <th>Action</th>\n",
       "      <th>...</th>\n",
       "      <th>Fantasy</th>\n",
       "      <th>Film-Noir</th>\n",
       "      <th>Horror</th>\n",
       "      <th>Musical</th>\n",
       "      <th>Mystery</th>\n",
       "      <th>Romance</th>\n",
       "      <th>Sci-Fi</th>\n",
       "      <th>Thriller</th>\n",
       "      <th>War</th>\n",
       "      <th>Western</th>\n",
       "    </tr>\n",
       "  </thead>\n",
       "  <tbody>\n",
       "    <tr>\n",
       "      <th>0</th>\n",
       "      <td>1</td>\n",
       "      <td>Toy Story (1995)</td>\n",
       "      <td>1</td>\n",
       "      <td>5</td>\n",
       "      <td>978824268</td>\n",
       "      <td>F</td>\n",
       "      <td>1</td>\n",
       "      <td>10</td>\n",
       "      <td>48067</td>\n",
       "      <td>0</td>\n",
       "      <td>...</td>\n",
       "      <td>0</td>\n",
       "      <td>0</td>\n",
       "      <td>0</td>\n",
       "      <td>0</td>\n",
       "      <td>0</td>\n",
       "      <td>0</td>\n",
       "      <td>0</td>\n",
       "      <td>0</td>\n",
       "      <td>0</td>\n",
       "      <td>0</td>\n",
       "    </tr>\n",
       "    <tr>\n",
       "      <th>1</th>\n",
       "      <td>48</td>\n",
       "      <td>Pocahontas (1995)</td>\n",
       "      <td>1</td>\n",
       "      <td>5</td>\n",
       "      <td>978824351</td>\n",
       "      <td>F</td>\n",
       "      <td>1</td>\n",
       "      <td>10</td>\n",
       "      <td>48067</td>\n",
       "      <td>0</td>\n",
       "      <td>...</td>\n",
       "      <td>0</td>\n",
       "      <td>0</td>\n",
       "      <td>0</td>\n",
       "      <td>1</td>\n",
       "      <td>0</td>\n",
       "      <td>1</td>\n",
       "      <td>0</td>\n",
       "      <td>0</td>\n",
       "      <td>0</td>\n",
       "      <td>0</td>\n",
       "    </tr>\n",
       "    <tr>\n",
       "      <th>2</th>\n",
       "      <td>150</td>\n",
       "      <td>Apollo 13 (1995)</td>\n",
       "      <td>1</td>\n",
       "      <td>5</td>\n",
       "      <td>978301777</td>\n",
       "      <td>F</td>\n",
       "      <td>1</td>\n",
       "      <td>10</td>\n",
       "      <td>48067</td>\n",
       "      <td>0</td>\n",
       "      <td>...</td>\n",
       "      <td>0</td>\n",
       "      <td>0</td>\n",
       "      <td>0</td>\n",
       "      <td>0</td>\n",
       "      <td>0</td>\n",
       "      <td>0</td>\n",
       "      <td>0</td>\n",
       "      <td>0</td>\n",
       "      <td>0</td>\n",
       "      <td>0</td>\n",
       "    </tr>\n",
       "    <tr>\n",
       "      <th>3</th>\n",
       "      <td>260</td>\n",
       "      <td>Star Wars: Episode IV - A New Hope (1977)</td>\n",
       "      <td>1</td>\n",
       "      <td>4</td>\n",
       "      <td>978300760</td>\n",
       "      <td>F</td>\n",
       "      <td>1</td>\n",
       "      <td>10</td>\n",
       "      <td>48067</td>\n",
       "      <td>1</td>\n",
       "      <td>...</td>\n",
       "      <td>1</td>\n",
       "      <td>0</td>\n",
       "      <td>0</td>\n",
       "      <td>0</td>\n",
       "      <td>0</td>\n",
       "      <td>0</td>\n",
       "      <td>1</td>\n",
       "      <td>0</td>\n",
       "      <td>0</td>\n",
       "      <td>0</td>\n",
       "    </tr>\n",
       "    <tr>\n",
       "      <th>4</th>\n",
       "      <td>527</td>\n",
       "      <td>Schindler's List (1993)</td>\n",
       "      <td>1</td>\n",
       "      <td>5</td>\n",
       "      <td>978824195</td>\n",
       "      <td>F</td>\n",
       "      <td>1</td>\n",
       "      <td>10</td>\n",
       "      <td>48067</td>\n",
       "      <td>0</td>\n",
       "      <td>...</td>\n",
       "      <td>0</td>\n",
       "      <td>0</td>\n",
       "      <td>0</td>\n",
       "      <td>0</td>\n",
       "      <td>0</td>\n",
       "      <td>0</td>\n",
       "      <td>0</td>\n",
       "      <td>0</td>\n",
       "      <td>1</td>\n",
       "      <td>0</td>\n",
       "    </tr>\n",
       "  </tbody>\n",
       "</table>\n",
       "<p>5 rows × 27 columns</p>\n",
       "</div>"
      ],
      "text/plain": [
       "   MovieID                                      Title  UserID  Rating  \\\n",
       "0        1                           Toy Story (1995)       1       5   \n",
       "1       48                          Pocahontas (1995)       1       5   \n",
       "2      150                           Apollo 13 (1995)       1       5   \n",
       "3      260  Star Wars: Episode IV - A New Hope (1977)       1       4   \n",
       "4      527                    Schindler's List (1993)       1       5   \n",
       "\n",
       "   Timestamp Gender  Age  Occupation Zip_Code  Action  ...  Fantasy  \\\n",
       "0  978824268      F    1          10    48067       0  ...        0   \n",
       "1  978824351      F    1          10    48067       0  ...        0   \n",
       "2  978301777      F    1          10    48067       0  ...        0   \n",
       "3  978300760      F    1          10    48067       1  ...        1   \n",
       "4  978824195      F    1          10    48067       0  ...        0   \n",
       "\n",
       "   Film-Noir  Horror  Musical  Mystery  Romance  Sci-Fi  Thriller  War  \\\n",
       "0          0       0        0        0        0       0         0    0   \n",
       "1          0       0        1        0        1       0         0    0   \n",
       "2          0       0        0        0        0       0         0    0   \n",
       "3          0       0        0        0        0       1         0    0   \n",
       "4          0       0        0        0        0       0         0    1   \n",
       "\n",
       "   Western  \n",
       "0        0  \n",
       "1        0  \n",
       "2        0  \n",
       "3        0  \n",
       "4        0  \n",
       "\n",
       "[5 rows x 27 columns]"
      ]
     },
     "execution_count": 119,
     "metadata": {},
     "output_type": "execute_result"
    }
   ],
   "source": [
    "model_data = all_Three_Data.join(all_Three_Data.pop('Genres').str.get_dummies('|'))\n",
    "model_data.head()"
   ]
  },
  {
   "cell_type": "markdown",
   "id": "aa9ca7a5",
   "metadata": {},
   "source": [
    "## 3. Determine the features affecting the ratings of any particular movie."
   ]
  },
  {
   "cell_type": "code",
   "execution_count": 121,
   "id": "351c97d7",
   "metadata": {},
   "outputs": [
    {
     "data": {
      "text/plain": [
       "<seaborn.axisgrid.PairGrid at 0x21ed36a8970>"
      ]
     },
     "execution_count": 121,
     "metadata": {},
     "output_type": "execute_result"
    },
    {
     "data": {
      "image/png": "[encoded data removed]",
      "text/plain": [
       "<Figure size 621.725x576 with 6 Axes>"
      ]
     },
     "metadata": {},
     "output_type": "display_data"
    }
   ],
   "source": [
    "sns.set()\n",
    "sns.pairplot(all_Three_Data[['Age','Gender','Occupation','Rating']],hue = \"Rating\",height=4)"
   ]
  },
  {
   "cell_type": "code",
   "execution_count": 125,
   "id": "e1e8171e",
   "metadata": {},
   "outputs": [
    {
     "data": {
      "text/plain": [
       "(array([0.5, 1.5, 2.5, 3.5, 4.5]),\n",
       " [Text(0.5, 0, 'MovieID'),\n",
       "  Text(1.5, 0, 'UserID'),\n",
       "  Text(2.5, 0, 'Age'),\n",
       "  Text(3.5, 0, 'Occupation'),\n",
       "  Text(4.5, 0, 'Rating')])"
      ]
     },
     "execution_count": 125,
     "metadata": {},
     "output_type": "execute_result"
    },
    {
     "data": {
      "image/png": "[encoded data removed]",
      "text/plain": [
       "<Figure size 720x576 with 2 Axes>"
      ]
     },
     "metadata": {},
     "output_type": "display_data"
    }
   ],
   "source": [
    "correlation = master_Data.corr()\n",
    "plt.figure(figsize=(10,8))\n",
    "sns.heatmap(data=correlation,cmap=sns.diverging_palette(20, 220, n=200),vmin=-1, vmax=1, center=0,square=True,annot=True)\n",
    "plt.yticks(rotation=0)\n",
    "plt.xticks(rotation=90)"
   ]
  },
  {
   "cell_type": "markdown",
   "id": "9ea40f89",
   "metadata": {},
   "source": [
    "**Comments:-** The pair plot and correlation plots are conclude that there is no feature affecting the ratings of any movie."
   ]
  },
  {
   "cell_type": "markdown",
   "id": "d8864956",
   "metadata": {},
   "source": [
    "## 4. Develop an appropriate model to predict the movie ratings"
   ]
  },
  {
   "cell_type": "code",
   "execution_count": 153,
   "id": "8f23f7cc",
   "metadata": {},
   "outputs": [
    {
     "data": {
      "text/plain": [
       "(1000209, 5)"
      ]
     },
     "execution_count": 153,
     "metadata": {},
     "output_type": "execute_result"
    }
   ],
   "source": [
    "# selecting the features for building model\n",
    "model_data_ML=all_Three_Data[['MovieID','Age','Gender','Occupation','Rating']]\n",
    "model_data_ML.head()\n",
    "model_data_ML.shape"
   ]
  },
  {
   "cell_type": "code",
   "execution_count": 154,
   "id": "2da2725f",
   "metadata": {},
   "outputs": [
    {
     "data": {
      "text/plain": [
       "MovieID        int32\n",
       "Age            int32\n",
       "Gender        object\n",
       "Occupation     int32\n",
       "Rating         int32\n",
       "dtype: object"
      ]
     },
     "execution_count": 154,
     "metadata": {},
     "output_type": "execute_result"
    }
   ],
   "source": [
    "model_data_ML.dtypes"
   ]
  },
  {
   "cell_type": "code",
   "execution_count": 155,
   "id": "75f53bf5",
   "metadata": {},
   "outputs": [],
   "source": [
    "def gentoint(x):\n",
    "    if (x=='F'):\n",
    "     return 0\n",
    "    if (x=='M'): \n",
    "     return 1\n",
    "#gentoint('M')"
   ]
  },
  {
   "cell_type": "code",
   "execution_count": 156,
   "id": "0303bd1d",
   "metadata": {},
   "outputs": [],
   "source": [
    "model_data_ML['Gender']= model_data_ML['Gender'].apply(gentoint)"
   ]
  },
  {
   "cell_type": "code",
   "execution_count": 157,
   "id": "7a20dcb9",
   "metadata": {},
   "outputs": [
    {
     "data": {
      "text/plain": [
       "MovieID       int32\n",
       "Age           int32\n",
       "Gender        int64\n",
       "Occupation    int32\n",
       "Rating        int32\n",
       "dtype: object"
      ]
     },
     "execution_count": 157,
     "metadata": {},
     "output_type": "execute_result"
    }
   ],
   "source": [
    "model_data_ML.dtypes"
   ]
  },
  {
   "cell_type": "code",
   "execution_count": 158,
   "id": "68d52f5d",
   "metadata": {},
   "outputs": [],
   "source": [
    "# features data\n",
    "X_features=model_data_ML[['MovieID','Age','Gender','Occupation']]"
   ]
  },
  {
   "cell_type": "code",
   "execution_count": 159,
   "id": "e412f172",
   "metadata": {},
   "outputs": [
    {
     "data": {
      "text/html": [
       "<div>\n",
       "<style scoped>\n",
       "    .dataframe tbody tr th:only-of-type {\n",
       "        vertical-align: middle;\n",
       "    }\n",
       "\n",
       "    .dataframe tbody tr th {\n",
       "        vertical-align: top;\n",
       "    }\n",
       "\n",
       "    .dataframe thead th {\n",
       "        text-align: right;\n",
       "    }\n",
       "</style>\n",
       "<table border=\"1\" class=\"dataframe\">\n",
       "  <thead>\n",
       "    <tr style=\"text-align: right;\">\n",
       "      <th></th>\n",
       "      <th>MovieID</th>\n",
       "      <th>Age</th>\n",
       "      <th>Gender</th>\n",
       "      <th>Occupation</th>\n",
       "    </tr>\n",
       "  </thead>\n",
       "  <tbody>\n",
       "    <tr>\n",
       "      <th>0</th>\n",
       "      <td>1</td>\n",
       "      <td>1</td>\n",
       "      <td>0</td>\n",
       "      <td>10</td>\n",
       "    </tr>\n",
       "    <tr>\n",
       "      <th>1</th>\n",
       "      <td>48</td>\n",
       "      <td>1</td>\n",
       "      <td>0</td>\n",
       "      <td>10</td>\n",
       "    </tr>\n",
       "    <tr>\n",
       "      <th>2</th>\n",
       "      <td>150</td>\n",
       "      <td>1</td>\n",
       "      <td>0</td>\n",
       "      <td>10</td>\n",
       "    </tr>\n",
       "    <tr>\n",
       "      <th>3</th>\n",
       "      <td>260</td>\n",
       "      <td>1</td>\n",
       "      <td>0</td>\n",
       "      <td>10</td>\n",
       "    </tr>\n",
       "    <tr>\n",
       "      <th>4</th>\n",
       "      <td>527</td>\n",
       "      <td>1</td>\n",
       "      <td>0</td>\n",
       "      <td>10</td>\n",
       "    </tr>\n",
       "    <tr>\n",
       "      <th>...</th>\n",
       "      <td>...</td>\n",
       "      <td>...</td>\n",
       "      <td>...</td>\n",
       "      <td>...</td>\n",
       "    </tr>\n",
       "    <tr>\n",
       "      <th>1000204</th>\n",
       "      <td>3513</td>\n",
       "      <td>25</td>\n",
       "      <td>1</td>\n",
       "      <td>4</td>\n",
       "    </tr>\n",
       "    <tr>\n",
       "      <th>1000205</th>\n",
       "      <td>3535</td>\n",
       "      <td>25</td>\n",
       "      <td>1</td>\n",
       "      <td>4</td>\n",
       "    </tr>\n",
       "    <tr>\n",
       "      <th>1000206</th>\n",
       "      <td>3536</td>\n",
       "      <td>25</td>\n",
       "      <td>1</td>\n",
       "      <td>4</td>\n",
       "    </tr>\n",
       "    <tr>\n",
       "      <th>1000207</th>\n",
       "      <td>3555</td>\n",
       "      <td>25</td>\n",
       "      <td>1</td>\n",
       "      <td>4</td>\n",
       "    </tr>\n",
       "    <tr>\n",
       "      <th>1000208</th>\n",
       "      <td>3578</td>\n",
       "      <td>25</td>\n",
       "      <td>1</td>\n",
       "      <td>4</td>\n",
       "    </tr>\n",
       "  </tbody>\n",
       "</table>\n",
       "<p>1000209 rows × 4 columns</p>\n",
       "</div>"
      ],
      "text/plain": [
       "         MovieID  Age  Gender  Occupation\n",
       "0              1    1       0          10\n",
       "1             48    1       0          10\n",
       "2            150    1       0          10\n",
       "3            260    1       0          10\n",
       "4            527    1       0          10\n",
       "...          ...  ...     ...         ...\n",
       "1000204     3513   25       1           4\n",
       "1000205     3535   25       1           4\n",
       "1000206     3536   25       1           4\n",
       "1000207     3555   25       1           4\n",
       "1000208     3578   25       1           4\n",
       "\n",
       "[1000209 rows x 4 columns]"
      ]
     },
     "execution_count": 159,
     "metadata": {},
     "output_type": "execute_result"
    }
   ],
   "source": [
    "X_features"
   ]
  },
  {
   "cell_type": "code",
   "execution_count": 160,
   "id": "6746e2eb",
   "metadata": {},
   "outputs": [],
   "source": [
    "Y_target=model_data_ML['Rating']"
   ]
  },
  {
   "cell_type": "code",
   "execution_count": 161,
   "id": "8515a858",
   "metadata": {},
   "outputs": [
    {
     "data": {
      "text/plain": [
       "0          5\n",
       "1          5\n",
       "2          5\n",
       "3          4\n",
       "4          5\n",
       "          ..\n",
       "1000204    4\n",
       "1000205    2\n",
       "1000206    5\n",
       "1000207    3\n",
       "1000208    5\n",
       "Name: Rating, Length: 1000209, dtype: int32"
      ]
     },
     "execution_count": 161,
     "metadata": {},
     "output_type": "execute_result"
    }
   ],
   "source": [
    "Y_target"
   ]
  },
  {
   "cell_type": "code",
   "execution_count": 162,
   "id": "c625e8a0",
   "metadata": {},
   "outputs": [],
   "source": [
    "from sklearn.model_selection import train_test_split\n",
    "X_train, X_test, y_train, y_test = train_test_split(X_features, Y_target, test_size=0.2, random_state=0)"
   ]
  },
  {
   "cell_type": "code",
   "execution_count": 163,
   "id": "1a43b263",
   "metadata": {},
   "outputs": [],
   "source": [
    "# Create a logistic regression model using the training set\n",
    "from sklearn.linear_model import LogisticRegression\n",
    "logreg=LogisticRegression()"
   ]
  },
  {
   "cell_type": "code",
   "execution_count": 164,
   "id": "8baa01c6",
   "metadata": {},
   "outputs": [
    {
     "data": {
      "text/plain": [
       "LogisticRegression()"
      ]
     },
     "execution_count": 164,
     "metadata": {},
     "output_type": "execute_result"
    }
   ],
   "source": [
    "logreg.fit(X_train,y_train)"
   ]
  },
  {
   "cell_type": "code",
   "execution_count": 165,
   "id": "1816a539",
   "metadata": {},
   "outputs": [
    {
     "name": "stdout",
     "output_type": "stream",
     "text": [
      "0.34904670019295947\n"
     ]
    }
   ],
   "source": [
    "#Evaluate the accuracy of your model\n",
    "y_ped=logreg.predict(X_test)\n",
    "from sklearn import metrics\n",
    "print(metrics.accuracy_score(y_test,y_ped))\n",
    "# logistic regression model gives 34% accuracy"
   ]
  },
  {
   "cell_type": "code",
   "execution_count": 166,
   "id": "d46da066",
   "metadata": {},
   "outputs": [],
   "source": [
    "# use KNN classifier method - import it from sklearn\n",
    "from sklearn.neighbors import KNeighborsClassifier\n",
    "# instantiate the knn estimator\n",
    "knn = KNeighborsClassifier(n_neighbors=6)"
   ]
  },
  {
   "cell_type": "code",
   "execution_count": 167,
   "id": "5ac3fb12",
   "metadata": {},
   "outputs": [
    {
     "data": {
      "text/plain": [
       "KNeighborsClassifier(n_neighbors=6)"
      ]
     },
     "execution_count": 167,
     "metadata": {},
     "output_type": "execute_result"
    }
   ],
   "source": [
    "# fit data into KNN model (estimator)\n",
    "knn.fit(X_features,Y_target)"
   ]
  },
  {
   "cell_type": "code",
   "execution_count": 168,
   "id": "babd66ff",
   "metadata": {},
   "outputs": [
    {
     "name": "stdout",
     "output_type": "stream",
     "text": [
      "0.4680617070415213\n"
     ]
    }
   ],
   "source": [
    "#Evaluate the accuracy of your model\n",
    "y_ped=knn.predict(X_test)\n",
    "from sklearn import metrics\n",
    "print(metrics.accuracy_score(y_test,y_ped))\n",
    "#KNN model gives 46% accuracy"
   ]
  },
  {
   "cell_type": "markdown",
   "id": "c9290993",
   "metadata": {},
   "source": [
    "**Comments:-** KNN is gives 46 % accuracy."
   ]
  },
  {
   "cell_type": "code",
   "execution_count": null,
   "id": "bdd295a8",
   "metadata": {},
   "outputs": [],
   "source": []
  }
 ],
 "metadata": {
  "kernelspec": {
   "display_name": "Python 3 (ipykernel)",
   "language": "python",
   "name": "python3"
  },
  "language_info": {
   "codemirror_mode": {
    "name": "ipython",
    "version": 3
   },
   "file_extension": ".py",
   "mimetype": "text/x-python",
   "name": "python",
   "nbconvert_exporter": "python",
   "pygments_lexer": "ipython3",
   "version": "3.9.12"
  }
 },
 "nbformat": 4,
 "nbformat_minor": 5
}
